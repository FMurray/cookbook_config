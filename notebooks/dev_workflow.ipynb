{
 "cells": [
  {
   "cell_type": "code",
   "execution_count": 1,
   "metadata": {},
   "outputs": [],
   "source": [
    "%load_ext autoreload\n",
    "%autoreload 2"
   ]
  },
  {
   "cell_type": "markdown",
   "metadata": {},
   "source": [
    "# Proposed API: Definining Data Pipeline"
   ]
  },
  {
   "cell_type": "code",
   "execution_count": 2,
   "metadata": {},
   "outputs": [
    {
     "name": "stderr",
     "output_type": "stream",
     "text": [
      "/Users/forrest.murray/Documents/devel/cookbook_config/.venv/lib/python3.11/site-packages/pydantic/_internal/_fields.py:172: UserWarning: Field name \"schema\" in \"DataSource\" shadows an attribute in parent \"BaseModel\"\n",
      "  warnings.warn(\n"
     ]
    }
   ],
   "source": [
    "from ai_cookbook.pipeline import DataSource, ProcessingStep, Output\n",
    "from ai_cookbook.functions.chunking import chunk_text\n",
    "\n",
    "# Define a mock data source\n",
    "source_1 = DataSource(\n",
    "    name=\"source1\",\n",
    "    catalog=\"test_catalog\",\n",
    "    schema=\"test_schema\",\n",
    "    type=\"volume\",\n",
    "    volume_name=\"test_volume\",\n",
    "    path=\"/path/to/data\",\n",
    "    format=\"csv\",\n",
    ")\n",
    "\n",
    "# Define a local processing function\n",
    "def mock_parse_docs(inputs):\n",
    "    return [\n",
    "        \"It was the best of times, it was the worst of times.\",\n",
    "        \"Call me Ishmael.\",\n",
    "        \"All happy families are alike.\",\n",
    "        \"It is a truth universally acknowledged.\",\n",
    "        \"In a hole in the ground there lived a hobbit.\"\n",
    "    ]\n",
    "\n",
    "# Define processing steps\n",
    "step_1 = ProcessingStep(\n",
    "    name=\"step1\",\n",
    "    function=mock_parse_docs, # function supports python functions or UC functions\n",
    "    inputs=[source_1],\n",
    "    output_table=\"output_table1\",\n",
    ")\n",
    "\n",
    "step_2 = ProcessingStep(\n",
    "    name=\"step2\",\n",
    "    function=chunk_text,\n",
    "    inputs=[step_1], # inputs is a list of data sources or previous steps\n",
    "    output_table=\"output_table2\",\n",
    ")\n",
    "\n",
    "output_index = Output(\n",
    "    name=\"output_index\",\n",
    "    type=\"vector_index\",\n",
    "    embedding_model=\"openai-embedding-model\",\n",
    "    inputs=[step_2],\n",
    "    output_table=\"output_index\",\n",
    ")"
   ]
  },
  {
   "cell_type": "code",
   "execution_count": 21,
   "metadata": {},
   "outputs": [],
   "source": [
    "from ai_cookbook.pipeline import Pipeline\n",
    "\n",
    "pipeline = Pipeline(\n",
    "    data_sources=[source_1],\n",
    "    processing_steps=[step_1, step_2],\n",
    "    outputs=[output_index],\n",
    ")\n"
   ]
  },
  {
   "cell_type": "code",
   "execution_count": 23,
   "metadata": {},
   "outputs": [
    {
     "data": {
      "text/html": [
       "<pre style=\"white-space:pre;overflow-x:auto;line-height:normal;font-family:Menlo,'DejaVu Sans Mono',consolas,'Courier New',monospace\"><span style=\"color: #7fbfbf; text-decoration-color: #7fbfbf\">[10/31/24 13:00:58] </span><span style=\"color: #000080; text-decoration-color: #000080\">INFO    </span> 🏃 Starting run                                                        <a href=\"file:///Users/forrest.murray/Documents/devel/cookbook_config/src/ai_cookbook/pipeline/pipeline.py\" target=\"_blank\"><span style=\"color: #7f7f7f; text-decoration-color: #7f7f7f\">pipeline.py</span></a><span style=\"color: #7f7f7f; text-decoration-color: #7f7f7f\">:</span><a href=\"file:///Users/forrest.murray/Documents/devel/cookbook_config/src/ai_cookbook/pipeline/pipeline.py#232\" target=\"_blank\"><span style=\"color: #7f7f7f; text-decoration-color: #7f7f7f\">232</span></a>\n",
       "</pre>\n"
      ],
      "text/plain": [
       "\u001b[2;36m[10/31/24 13:00:58]\u001b[0m\u001b[2;36m \u001b[0m\u001b[34mINFO    \u001b[0m 🏃 Starting run                                                        \u001b]8;id=598594;file:///Users/forrest.murray/Documents/devel/cookbook_config/src/ai_cookbook/pipeline/pipeline.py\u001b\\\u001b[2mpipeline.py\u001b[0m\u001b]8;;\u001b\\\u001b[2m:\u001b[0m\u001b]8;id=961013;file:///Users/forrest.murray/Documents/devel/cookbook_config/src/ai_cookbook/pipeline/pipeline.py#232\u001b\\\u001b[2m232\u001b[0m\u001b]8;;\u001b\\\n"
      ]
     },
     "metadata": {},
     "output_type": "display_data"
    },
    {
     "data": {
      "text/html": [
       "<pre style=\"white-space:pre;overflow-x:auto;line-height:normal;font-family:Menlo,'DejaVu Sans Mono',consolas,'Courier New',monospace\"><span style=\"color: #7fbfbf; text-decoration-color: #7fbfbf\">[13:00:58] </span> <span style=\"color: #000080; text-decoration-color: #000080; font-weight: bold\">Run ID:  </span>  <span style=\"color: #008080; text-decoration-color: #008080\">4fa43308-a0e8-4f65-9533-7ce0ba1cb140</span>                                         <a href=\"file:///Users/forrest.murray/Documents/devel/cookbook_config/src/ai_cookbook/pipeline/pipeline.py\" target=\"_blank\"><span style=\"color: #7f7f7f; text-decoration-color: #7f7f7f\">pipeline.py</span></a><span style=\"color: #7f7f7f; text-decoration-color: #7f7f7f\">:</span><a href=\"file:///Users/forrest.murray/Documents/devel/cookbook_config/src/ai_cookbook/pipeline/pipeline.py#233\" target=\"_blank\"><span style=\"color: #7f7f7f; text-decoration-color: #7f7f7f\">233</span></a>\n",
       "<span style=\"color: #7fbfbf; text-decoration-color: #7fbfbf\">           </span> <span style=\"color: #000080; text-decoration-color: #000080; font-weight: bold\">Started: </span>  <span style=\"color: #008080; text-decoration-color: #008080\">2024-10-31 13:00:58.061443          </span>                                         <span style=\"color: #7f7f7f; text-decoration-color: #7f7f7f\">               </span>\n",
       "</pre>\n"
      ],
      "text/plain": [
       "\u001b[2;36m[13:00:58]\u001b[0m\u001b[2;36m \u001b[0m \u001b[1;34mRun ID:  \u001b[0m  \u001b[36m4fa43308-a0e8-4f65-9533-7ce0ba1cb140\u001b[0m                                         \u001b]8;id=953142;file:///Users/forrest.murray/Documents/devel/cookbook_config/src/ai_cookbook/pipeline/pipeline.py\u001b\\\u001b[2mpipeline.py\u001b[0m\u001b]8;;\u001b\\\u001b[2m:\u001b[0m\u001b]8;id=374479;file:///Users/forrest.murray/Documents/devel/cookbook_config/src/ai_cookbook/pipeline/pipeline.py#233\u001b\\\u001b[2m233\u001b[0m\u001b]8;;\u001b\\\n",
       "\u001b[2;36m           \u001b[0m \u001b[1;34mStarted: \u001b[0m  \u001b[36m2024-10-31 13:00:58.061443          \u001b[0m                                         \u001b[2m               \u001b[0m\n"
      ]
     },
     "metadata": {},
     "output_type": "display_data"
    },
    {
     "data": {
      "application/vnd.jupyter.widget-view+json": {
       "model_id": "4a09651330d746a38d228e9b2709a0da",
       "version_major": 2,
       "version_minor": 0
      },
      "text/plain": [
       "Output()"
      ]
     },
     "metadata": {},
     "output_type": "display_data"
    },
    {
     "data": {
      "text/html": [
       "<pre style=\"white-space:pre;overflow-x:auto;line-height:normal;font-family:Menlo,'DejaVu Sans Mono',consolas,'Courier New',monospace\"></pre>\n"
      ],
      "text/plain": []
     },
     "metadata": {},
     "output_type": "display_data"
    }
   ],
   "source": [
    "pipeline.run()"
   ]
  },
  {
   "cell_type": "markdown",
   "metadata": {},
   "source": [
    "# Proposed API: Adding model"
   ]
  },
  {
   "cell_type": "code",
   "execution_count": null,
   "metadata": {},
   "outputs": [],
   "source": [
    "from ai_cookbook.models.rag import MultiTurnRAG\n",
    "from ai_cookbook.models.sql_gen import SQLGenModel\n",
    "\n",
    "sql_gen_model = SQLGenModel()\n",
    "\n",
    "model = MultiTurnRAG(\n",
    "    name=\"rag_model\",\n",
    "    inputs=pipeline,\n",
    "    steps=[sql_gen_model],\n",
    ")\n"
   ]
  }
 ],
 "metadata": {
  "kernelspec": {
   "display_name": ".venv",
   "language": "python",
   "name": "python3"
  },
  "language_info": {
   "codemirror_mode": {
    "name": "ipython",
    "version": 3
   },
   "file_extension": ".py",
   "mimetype": "text/x-python",
   "name": "python",
   "nbconvert_exporter": "python",
   "pygments_lexer": "ipython3",
   "version": "3.11.10"
  }
 },
 "nbformat": 4,
 "nbformat_minor": 2
}
