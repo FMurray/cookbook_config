{
 "cells": [
  {
   "cell_type": "code",
   "execution_count": 2,
   "metadata": {},
   "outputs": [
    {
     "name": "stderr",
     "output_type": "stream",
     "text": [
      "/Users/forrest.murray/Documents/devel/cookbook_config/.venv/lib/python3.11/site-packages/pydantic/_internal/_fields.py:172: UserWarning: Field name \"schema\" in \"DataSource\" shadows an attribute in parent \"BaseModel\"\n",
      "  warnings.warn(\n"
     ]
    }
   ],
   "source": [
    "# import ipywidgets as widgets\n",
    "from IPython.display import display, clear_output\n",
    "from ai_cookbook.pipeline.data_source import DataSource\n",
    "from ai_cookbook.pipeline.processing_step import ProcessingStep\n",
    "from ai_cookbook.pipeline.output import Output\n",
    "from ai_cookbook.pipeline.pipeline import Pipeline\n",
    "from pydantic import ValidationError, TypeAdapter\n",
    "import yaml"
   ]
  },
  {
   "cell_type": "code",
   "execution_count": 3,
   "metadata": {},
   "outputs": [
    {
     "data": {
      "application/vnd.plotly.v1+json": {
       "config": {
        "plotlyServerURL": "https://plot.ly"
       },
       "data": [
        {
         "link": {
          "source": [
           0,
           1,
           0,
           2,
           3,
           3
          ],
          "target": [
           2,
           3,
           3,
           4,
           4,
           5
          ],
          "value": [
           8,
           4,
           2,
           8,
           4,
           2
          ]
         },
         "node": {
          "color": "blue",
          "label": [
           "A1",
           "A2",
           "B1",
           "B2",
           "C1",
           "C2"
          ],
          "line": {
           "color": "black",
           "width": 0.5
          },
          "pad": 15,
          "thickness": 20
         },
         "type": "sankey"
        }
       ],
       "layout": {
        "font": {
         "size": 10
        },
        "template": {
         "data": {
          "bar": [
           {
            "error_x": {
             "color": "#2a3f5f"
            },
            "error_y": {
             "color": "#2a3f5f"
            },
            "marker": {
             "line": {
              "color": "#E5ECF6",
              "width": 0.5
             },
             "pattern": {
              "fillmode": "overlay",
              "size": 10,
              "solidity": 0.2
             }
            },
            "type": "bar"
           }
          ],
          "barpolar": [
           {
            "marker": {
             "line": {
              "color": "#E5ECF6",
              "width": 0.5
             },
             "pattern": {
              "fillmode": "overlay",
              "size": 10,
              "solidity": 0.2
             }
            },
            "type": "barpolar"
           }
          ],
          "carpet": [
           {
            "aaxis": {
             "endlinecolor": "#2a3f5f",
             "gridcolor": "white",
             "linecolor": "white",
             "minorgridcolor": "white",
             "startlinecolor": "#2a3f5f"
            },
            "baxis": {
             "endlinecolor": "#2a3f5f",
             "gridcolor": "white",
             "linecolor": "white",
             "minorgridcolor": "white",
             "startlinecolor": "#2a3f5f"
            },
            "type": "carpet"
           }
          ],
          "choropleth": [
           {
            "colorbar": {
             "outlinewidth": 0,
             "ticks": ""
            },
            "type": "choropleth"
           }
          ],
          "contour": [
           {
            "colorbar": {
             "outlinewidth": 0,
             "ticks": ""
            },
            "colorscale": [
             [
              0,
              "#0d0887"
             ],
             [
              0.1111111111111111,
              "#46039f"
             ],
             [
              0.2222222222222222,
              "#7201a8"
             ],
             [
              0.3333333333333333,
              "#9c179e"
             ],
             [
              0.4444444444444444,
              "#bd3786"
             ],
             [
              0.5555555555555556,
              "#d8576b"
             ],
             [
              0.6666666666666666,
              "#ed7953"
             ],
             [
              0.7777777777777778,
              "#fb9f3a"
             ],
             [
              0.8888888888888888,
              "#fdca26"
             ],
             [
              1,
              "#f0f921"
             ]
            ],
            "type": "contour"
           }
          ],
          "contourcarpet": [
           {
            "colorbar": {
             "outlinewidth": 0,
             "ticks": ""
            },
            "type": "contourcarpet"
           }
          ],
          "heatmap": [
           {
            "colorbar": {
             "outlinewidth": 0,
             "ticks": ""
            },
            "colorscale": [
             [
              0,
              "#0d0887"
             ],
             [
              0.1111111111111111,
              "#46039f"
             ],
             [
              0.2222222222222222,
              "#7201a8"
             ],
             [
              0.3333333333333333,
              "#9c179e"
             ],
             [
              0.4444444444444444,
              "#bd3786"
             ],
             [
              0.5555555555555556,
              "#d8576b"
             ],
             [
              0.6666666666666666,
              "#ed7953"
             ],
             [
              0.7777777777777778,
              "#fb9f3a"
             ],
             [
              0.8888888888888888,
              "#fdca26"
             ],
             [
              1,
              "#f0f921"
             ]
            ],
            "type": "heatmap"
           }
          ],
          "heatmapgl": [
           {
            "colorbar": {
             "outlinewidth": 0,
             "ticks": ""
            },
            "colorscale": [
             [
              0,
              "#0d0887"
             ],
             [
              0.1111111111111111,
              "#46039f"
             ],
             [
              0.2222222222222222,
              "#7201a8"
             ],
             [
              0.3333333333333333,
              "#9c179e"
             ],
             [
              0.4444444444444444,
              "#bd3786"
             ],
             [
              0.5555555555555556,
              "#d8576b"
             ],
             [
              0.6666666666666666,
              "#ed7953"
             ],
             [
              0.7777777777777778,
              "#fb9f3a"
             ],
             [
              0.8888888888888888,
              "#fdca26"
             ],
             [
              1,
              "#f0f921"
             ]
            ],
            "type": "heatmapgl"
           }
          ],
          "histogram": [
           {
            "marker": {
             "pattern": {
              "fillmode": "overlay",
              "size": 10,
              "solidity": 0.2
             }
            },
            "type": "histogram"
           }
          ],
          "histogram2d": [
           {
            "colorbar": {
             "outlinewidth": 0,
             "ticks": ""
            },
            "colorscale": [
             [
              0,
              "#0d0887"
             ],
             [
              0.1111111111111111,
              "#46039f"
             ],
             [
              0.2222222222222222,
              "#7201a8"
             ],
             [
              0.3333333333333333,
              "#9c179e"
             ],
             [
              0.4444444444444444,
              "#bd3786"
             ],
             [
              0.5555555555555556,
              "#d8576b"
             ],
             [
              0.6666666666666666,
              "#ed7953"
             ],
             [
              0.7777777777777778,
              "#fb9f3a"
             ],
             [
              0.8888888888888888,
              "#fdca26"
             ],
             [
              1,
              "#f0f921"
             ]
            ],
            "type": "histogram2d"
           }
          ],
          "histogram2dcontour": [
           {
            "colorbar": {
             "outlinewidth": 0,
             "ticks": ""
            },
            "colorscale": [
             [
              0,
              "#0d0887"
             ],
             [
              0.1111111111111111,
              "#46039f"
             ],
             [
              0.2222222222222222,
              "#7201a8"
             ],
             [
              0.3333333333333333,
              "#9c179e"
             ],
             [
              0.4444444444444444,
              "#bd3786"
             ],
             [
              0.5555555555555556,
              "#d8576b"
             ],
             [
              0.6666666666666666,
              "#ed7953"
             ],
             [
              0.7777777777777778,
              "#fb9f3a"
             ],
             [
              0.8888888888888888,
              "#fdca26"
             ],
             [
              1,
              "#f0f921"
             ]
            ],
            "type": "histogram2dcontour"
           }
          ],
          "mesh3d": [
           {
            "colorbar": {
             "outlinewidth": 0,
             "ticks": ""
            },
            "type": "mesh3d"
           }
          ],
          "parcoords": [
           {
            "line": {
             "colorbar": {
              "outlinewidth": 0,
              "ticks": ""
             }
            },
            "type": "parcoords"
           }
          ],
          "pie": [
           {
            "automargin": true,
            "type": "pie"
           }
          ],
          "scatter": [
           {
            "fillpattern": {
             "fillmode": "overlay",
             "size": 10,
             "solidity": 0.2
            },
            "type": "scatter"
           }
          ],
          "scatter3d": [
           {
            "line": {
             "colorbar": {
              "outlinewidth": 0,
              "ticks": ""
             }
            },
            "marker": {
             "colorbar": {
              "outlinewidth": 0,
              "ticks": ""
             }
            },
            "type": "scatter3d"
           }
          ],
          "scattercarpet": [
           {
            "marker": {
             "colorbar": {
              "outlinewidth": 0,
              "ticks": ""
             }
            },
            "type": "scattercarpet"
           }
          ],
          "scattergeo": [
           {
            "marker": {
             "colorbar": {
              "outlinewidth": 0,
              "ticks": ""
             }
            },
            "type": "scattergeo"
           }
          ],
          "scattergl": [
           {
            "marker": {
             "colorbar": {
              "outlinewidth": 0,
              "ticks": ""
             }
            },
            "type": "scattergl"
           }
          ],
          "scattermapbox": [
           {
            "marker": {
             "colorbar": {
              "outlinewidth": 0,
              "ticks": ""
             }
            },
            "type": "scattermapbox"
           }
          ],
          "scatterpolar": [
           {
            "marker": {
             "colorbar": {
              "outlinewidth": 0,
              "ticks": ""
             }
            },
            "type": "scatterpolar"
           }
          ],
          "scatterpolargl": [
           {
            "marker": {
             "colorbar": {
              "outlinewidth": 0,
              "ticks": ""
             }
            },
            "type": "scatterpolargl"
           }
          ],
          "scatterternary": [
           {
            "marker": {
             "colorbar": {
              "outlinewidth": 0,
              "ticks": ""
             }
            },
            "type": "scatterternary"
           }
          ],
          "surface": [
           {
            "colorbar": {
             "outlinewidth": 0,
             "ticks": ""
            },
            "colorscale": [
             [
              0,
              "#0d0887"
             ],
             [
              0.1111111111111111,
              "#46039f"
             ],
             [
              0.2222222222222222,
              "#7201a8"
             ],
             [
              0.3333333333333333,
              "#9c179e"
             ],
             [
              0.4444444444444444,
              "#bd3786"
             ],
             [
              0.5555555555555556,
              "#d8576b"
             ],
             [
              0.6666666666666666,
              "#ed7953"
             ],
             [
              0.7777777777777778,
              "#fb9f3a"
             ],
             [
              0.8888888888888888,
              "#fdca26"
             ],
             [
              1,
              "#f0f921"
             ]
            ],
            "type": "surface"
           }
          ],
          "table": [
           {
            "cells": {
             "fill": {
              "color": "#EBF0F8"
             },
             "line": {
              "color": "white"
             }
            },
            "header": {
             "fill": {
              "color": "#C8D4E3"
             },
             "line": {
              "color": "white"
             }
            },
            "type": "table"
           }
          ]
         },
         "layout": {
          "annotationdefaults": {
           "arrowcolor": "#2a3f5f",
           "arrowhead": 0,
           "arrowwidth": 1
          },
          "autotypenumbers": "strict",
          "coloraxis": {
           "colorbar": {
            "outlinewidth": 0,
            "ticks": ""
           }
          },
          "colorscale": {
           "diverging": [
            [
             0,
             "#8e0152"
            ],
            [
             0.1,
             "#c51b7d"
            ],
            [
             0.2,
             "#de77ae"
            ],
            [
             0.3,
             "#f1b6da"
            ],
            [
             0.4,
             "#fde0ef"
            ],
            [
             0.5,
             "#f7f7f7"
            ],
            [
             0.6,
             "#e6f5d0"
            ],
            [
             0.7,
             "#b8e186"
            ],
            [
             0.8,
             "#7fbc41"
            ],
            [
             0.9,
             "#4d9221"
            ],
            [
             1,
             "#276419"
            ]
           ],
           "sequential": [
            [
             0,
             "#0d0887"
            ],
            [
             0.1111111111111111,
             "#46039f"
            ],
            [
             0.2222222222222222,
             "#7201a8"
            ],
            [
             0.3333333333333333,
             "#9c179e"
            ],
            [
             0.4444444444444444,
             "#bd3786"
            ],
            [
             0.5555555555555556,
             "#d8576b"
            ],
            [
             0.6666666666666666,
             "#ed7953"
            ],
            [
             0.7777777777777778,
             "#fb9f3a"
            ],
            [
             0.8888888888888888,
             "#fdca26"
            ],
            [
             1,
             "#f0f921"
            ]
           ],
           "sequentialminus": [
            [
             0,
             "#0d0887"
            ],
            [
             0.1111111111111111,
             "#46039f"
            ],
            [
             0.2222222222222222,
             "#7201a8"
            ],
            [
             0.3333333333333333,
             "#9c179e"
            ],
            [
             0.4444444444444444,
             "#bd3786"
            ],
            [
             0.5555555555555556,
             "#d8576b"
            ],
            [
             0.6666666666666666,
             "#ed7953"
            ],
            [
             0.7777777777777778,
             "#fb9f3a"
            ],
            [
             0.8888888888888888,
             "#fdca26"
            ],
            [
             1,
             "#f0f921"
            ]
           ]
          },
          "colorway": [
           "#636efa",
           "#EF553B",
           "#00cc96",
           "#ab63fa",
           "#FFA15A",
           "#19d3f3",
           "#FF6692",
           "#B6E880",
           "#FF97FF",
           "#FECB52"
          ],
          "font": {
           "color": "#2a3f5f"
          },
          "geo": {
           "bgcolor": "white",
           "lakecolor": "white",
           "landcolor": "#E5ECF6",
           "showlakes": true,
           "showland": true,
           "subunitcolor": "white"
          },
          "hoverlabel": {
           "align": "left"
          },
          "hovermode": "closest",
          "mapbox": {
           "style": "light"
          },
          "paper_bgcolor": "white",
          "plot_bgcolor": "#E5ECF6",
          "polar": {
           "angularaxis": {
            "gridcolor": "white",
            "linecolor": "white",
            "ticks": ""
           },
           "bgcolor": "#E5ECF6",
           "radialaxis": {
            "gridcolor": "white",
            "linecolor": "white",
            "ticks": ""
           }
          },
          "scene": {
           "xaxis": {
            "backgroundcolor": "#E5ECF6",
            "gridcolor": "white",
            "gridwidth": 2,
            "linecolor": "white",
            "showbackground": true,
            "ticks": "",
            "zerolinecolor": "white"
           },
           "yaxis": {
            "backgroundcolor": "#E5ECF6",
            "gridcolor": "white",
            "gridwidth": 2,
            "linecolor": "white",
            "showbackground": true,
            "ticks": "",
            "zerolinecolor": "white"
           },
           "zaxis": {
            "backgroundcolor": "#E5ECF6",
            "gridcolor": "white",
            "gridwidth": 2,
            "linecolor": "white",
            "showbackground": true,
            "ticks": "",
            "zerolinecolor": "white"
           }
          },
          "shapedefaults": {
           "line": {
            "color": "#2a3f5f"
           }
          },
          "ternary": {
           "aaxis": {
            "gridcolor": "white",
            "linecolor": "white",
            "ticks": ""
           },
           "baxis": {
            "gridcolor": "white",
            "linecolor": "white",
            "ticks": ""
           },
           "bgcolor": "#E5ECF6",
           "caxis": {
            "gridcolor": "white",
            "linecolor": "white",
            "ticks": ""
           }
          },
          "title": {
           "x": 0.05
          },
          "xaxis": {
           "automargin": true,
           "gridcolor": "white",
           "linecolor": "white",
           "ticks": "",
           "title": {
            "standoff": 15
           },
           "zerolinecolor": "white",
           "zerolinewidth": 2
          },
          "yaxis": {
           "automargin": true,
           "gridcolor": "white",
           "linecolor": "white",
           "ticks": "",
           "title": {
            "standoff": 15
           },
           "zerolinecolor": "white",
           "zerolinewidth": 2
          }
         }
        },
        "title": {
         "text": "Basic Sankey Diagram"
        }
       }
      }
     },
     "metadata": {},
     "output_type": "display_data"
    }
   ],
   "source": [
    "import plotly.graph_objects as go\n",
    "\n",
    "labels = [\"A1\", \"A2\", \"B1\", \"B2\", \"C1\", \"C2\"]\n",
    "source = [0, 1, 0, 2, 3, 3]\n",
    "target = [2, 3, 3, 4, 4, 5]\n",
    "values = [8, 4, 2, 8, 4, 2]\n",
    "\n",
    "fig = go.Figure(data=[go.Sankey(\n",
    "    node = dict(\n",
    "      pad = 15,\n",
    "      thickness = 20,\n",
    "      line = dict(color = \"black\", width = 0.5),\n",
    "      label = labels,\n",
    "      color = \"blue\"\n",
    "    ),\n",
    "    link = dict(\n",
    "      source = source,\n",
    "      target = target,\n",
    "      value = values\n",
    "  ))])\n",
    "\n",
    "fig.update_layout(title_text=\"Basic Sankey Diagram\", font_size=10)\n",
    "fig.show()"
   ]
  },
  {
   "cell_type": "code",
   "execution_count": 1,
   "metadata": {},
   "outputs": [
    {
     "data": {
      "application/javascript": "\nconst prevIframe = document.getElementById(\"solara-jupyter-check\");\nif(prevIframe)\n    prevIframe.remove();\nconst iframe = document.createElement('iframe')\niframe.setAttribute(\"src\", \"https://solara.dev/static/public/success.html?check=purejs&version=1.40.0\");\niframe.style.width = \"0px\";\niframe.style.height = \"0px\";\niframe.style.display = \"none\";\niframe.id = \"solara-jupyter-check\";\ndocument.body.appendChild(iframe);\n            ",
      "text/plain": [
       "<IPython.core.display.Javascript object>"
      ]
     },
     "metadata": {},
     "output_type": "display_data"
    },
    {
     "data": {
      "application/vnd.jupyter.widget-view+json": {
       "model_id": "cc81a455f5f64127abb771ec30eef178",
       "version_major": 2,
       "version_minor": 0
      },
      "text/html": [
       "Cannot show widget. You probably want to rerun the code cell above (<i>Click in the code cell, and press Shift+Enter <kbd>⇧</kbd>+<kbd>↩</kbd></i>)."
      ],
      "text/plain": [
       "Cannot show ipywidgets in text"
      ]
     },
     "metadata": {},
     "output_type": "display_data"
    }
   ],
   "source": [
    "import solara\n",
    "\n",
    "# Declare reactive variables at the top level. Components using these variables\n",
    "# will be re-executed when their values change.\n",
    "sentence = solara.reactive(\"Solara makes our team more productive.\")\n",
    "word_limit = solara.reactive(10)\n",
    "\n",
    "\n",
    "@solara.component\n",
    "def Page():\n",
    "    # Calculate word_count within the component to ensure re-execution when reactive variables change.\n",
    "    word_count = len(sentence.value.split())\n",
    "\n",
    "    solara.SliderInt(\"Word limit\", value=word_limit, min=2, max=20)\n",
    "    solara.InputText(label=\"Your sentence\", value=sentence, continuous_update=True)\n",
    "\n",
    "    # Display messages based on the current word count and word limit.\n",
    "    if word_count >= int(word_limit.value):\n",
    "        solara.Error(f\"With {word_count} words, you passed the word limit of {word_limit.value}.\")\n",
    "    elif word_count >= int(0.8 * word_limit.value):\n",
    "        solara.Warning(f\"With {word_count} words, you are close to the word limit of {word_limit.value}.\")\n",
    "    else:\n",
    "        solara.Success(\"Great short writing!\")\n",
    "\n",
    "\n",
    "# The following line is required only when running the code in a Jupyter notebook:\n",
    "Page()"
   ]
  },
  {
   "cell_type": "code",
   "execution_count": 2,
   "metadata": {},
   "outputs": [],
   "source": [
    "pipeline = Pipeline.from_yaml(\"../src/ai_cookbook/pipeline_config.yaml\")"
   ]
  },
  {
   "cell_type": "code",
   "execution_count": 3,
   "metadata": {},
   "outputs": [],
   "source": [
    "# Widget for Data Source Name\n",
    "ds_name = widgets.Text(description='Name')\n",
    "\n",
    "# Widget for Data Source Type\n",
    "ds_type = widgets.Dropdown(\n",
    "    options=['volume', 'delta table'],\n",
    "    description='Type'\n",
    ")\n",
    "\n",
    "# Widget for Path\n",
    "ds_path = widgets.Text(description='Path')\n",
    "\n",
    "# Widgets for Format, Catalog, Schema, Table\n",
    "ds_format = widgets.Text(description='Format')\n",
    "ds_catalog = widgets.Text(description='Catalog')\n",
    "ds_schema = widgets.Text(description='Schema')\n",
    "ds_table = widgets.Text(description='Table')\n",
    "\n",
    "# Button to Add Data Source\n",
    "add_ds_button = widgets.Button(description='Add Data Source')\n",
    "\n",
    "# Output area for Data Source\n",
    "ds_output = widgets.Output()"
   ]
  },
  {
   "cell_type": "code",
   "execution_count": 4,
   "metadata": {},
   "outputs": [],
   "source": [
    "def on_add_ds_clicked(b):\n",
    "    with ds_output:\n",
    "        clear_output()\n",
    "        try:\n",
    "            ds_config = DataSource(\n",
    "                name=ds_name.value,\n",
    "                type=ds_type.value,\n",
    "                path=ds_path.value,\n",
    "                format=ds_format.value,\n",
    "                catalog=ds_catalog.value,\n",
    "                schema=ds_schema.value,\n",
    "                table=ds_table.value\n",
    "            )\n",
    "            pipeline.data_sources.append(ds_config)\n",
    "            print(f\"Added Data Source: {ds_config.name}\")\n",
    "        except ValidationError as e:\n",
    "            print(\"Validation Error:\")\n",
    "            print(e)\n"
   ]
  },
  {
   "cell_type": "code",
   "execution_count": 5,
   "metadata": {},
   "outputs": [],
   "source": [
    "add_ds_button.on_click(on_add_ds_clicked)"
   ]
  },
  {
   "cell_type": "code",
   "execution_count": 6,
   "metadata": {},
   "outputs": [
    {
     "data": {
      "application/vnd.jupyter.widget-view+json": {
       "model_id": "6571e158861d49258decb8ead7c3dc39",
       "version_major": 2,
       "version_minor": 0
      },
      "text/plain": [
       "VBox(children=(Text(value='', description='Name'), Dropdown(description='Type', options=('volume', 'delta tabl…"
      ]
     },
     "metadata": {},
     "output_type": "display_data"
    }
   ],
   "source": [
    "ds_widget_box = widgets.VBox([\n",
    "    ds_name,\n",
    "    ds_type,\n",
    "    ds_path,\n",
    "    ds_format,\n",
    "    ds_catalog,\n",
    "    ds_schema,\n",
    "    ds_table,\n",
    "    add_ds_button,\n",
    "    ds_output\n",
    "])\n",
    "\n",
    "display(ds_widget_box)\n"
   ]
  },
  {
   "cell_type": "code",
   "execution_count": 11,
   "metadata": {},
   "outputs": [
    {
     "data": {
      "application/vnd.jupyter.widget-view+json": {
       "model_id": "3344e14f39674ec1b72292faff1cad5c",
       "version_major": 2,
       "version_minor": 0
      },
      "text/plain": [
       "Button(description='Visualize Pipeline', style=ButtonStyle())"
      ]
     },
     "metadata": {},
     "output_type": "display_data"
    },
    {
     "data": {
      "application/vnd.jupyter.widget-view+json": {
       "model_id": "470178f6095144c88a40ae6b263f6d2b",
       "version_major": 2,
       "version_minor": 0
      },
      "text/plain": [
       "Output()"
      ]
     },
     "metadata": {},
     "output_type": "display_data"
    }
   ],
   "source": [
    "# Add this import with your others\n",
    "from IPython.display import display, Markdown\n",
    "\n",
    "def visualize_pipeline(pipeline):\n",
    "    mermaid_diagram = \"\"\"\n",
    "    ```mermaid\n",
    "    graph LR\n",
    "        %% Style definitions\n",
    "        classDef datasource fill:#b3e0ff,stroke:#333,stroke-width:2px;\n",
    "        classDef processing fill:#98fb98,stroke:#333,stroke-width:2px;\n",
    "        classDef output fill:#ffb3b3,stroke:#333,stroke-width:2px;\n",
    "    \"\"\"\n",
    "    \n",
    "    # Add data sources\n",
    "    for ds in pipeline.data_sources:\n",
    "        mermaid_diagram += f'\\n    DS_{ds.name}[\"{ds.name}\"]:::datasource'\n",
    "    \n",
    "    # Add processing steps and their connections\n",
    "    for step in pipeline.processing_steps:\n",
    "        mermaid_diagram += f'\\n    PS_{step.name}[\"{step.name}\"]:::processing'\n",
    "        # Connect data sources to this step\n",
    "        for input_source in step.inputs:\n",
    "            mermaid_diagram += f'\\n    DS_{input_source} --> PS_{step.name}'\n",
    "    \n",
    "    # Add outputs and their connections\n",
    "    for output in pipeline.outputs:\n",
    "        mermaid_diagram += f'\\n    O_{output.name}[\"{output.name}\"]:::output'\n",
    "        # Connect steps to this output\n",
    "        for input_step in output.inputs:\n",
    "            mermaid_diagram += f'\\n    PS_{input_step} --> O_{output.name}'\n",
    "    \n",
    "    return mermaid_diagram + \"\\n    ```\"\n",
    "\n",
    "# Add visualization button and its handler\n",
    "visualize_button = widgets.Button(description='Visualize Pipeline')\n",
    "viz_output = widgets.Output()\n",
    "\n",
    "def on_visualize_clicked(b):\n",
    "    with viz_output:\n",
    "        clear_output()\n",
    "        try:\n",
    "            diagram = visualize_pipeline(pipeline)\n",
    "            display(Markdown(diagram))\n",
    "        except Exception as e:\n",
    "            print(\"Error visualizing pipeline:\")\n",
    "            print(e)\n",
    "\n",
    "visualize_button.on_click(on_visualize_clicked)\n",
    "\n",
    "# Display the visualization button and output area\n",
    "display(visualize_button, viz_output)"
   ]
  },
  {
   "cell_type": "markdown",
   "metadata": {},
   "source": [
    "```mermaid\n",
    "graph LR\n",
    "    %% Style definitions\n",
    "    classDef datasource fill:#b3e0ff,stroke:#333,stroke-width:2px;\n",
    "    classDef processing fill:#98fb98,stroke:#333,stroke-width:2px;\n",
    "    classDef output fill:#ffb3b3,stroke:#333,stroke-width:2px;\n",
    "\n",
    "DS_financial_reports[\"financial_reports\"]:::datasource\n",
    "PS_parsing[\"parsing\"]:::processing\n",
    "DS_name='financial_reports' type='volume' path='/Volumes/main/raw_data/financial_reports' format='pdf' catalog='main' schema='agent_app' volume_name='raw_data' table_schema=None table=None --> PS_parsing\n",
    "PS_add_metadata[\"add_metadata\"]:::processing\n",
    "DS_name='parsing' function='ai_cookbook.functions.parsing.extract_text_from_pdf' inputs=[DataSource(name='financial_reports', type='volume', path='/Volumes/main/raw_data/financial_reports', format='pdf', catalog='main', schema='agent_app', volume_name='raw_data', table_schema=None, table=None)] output_table='processed_data.extracted_texts' parameters={} --> PS_add_metadata\n",
    "DS_name='financial_reports' type='volume' path='/Volumes/main/raw_data/financial_reports' format='pdf' catalog='main' schema='agent_app' volume_name='raw_data' table_schema=None table=None --> PS_add_metadata\n",
    "O_financial_reports_index[\"financial_reports_index\"]:::output\n",
    "PS_name='add_metadata' function='ai_cookbook.functions.metadata.add_metadata' inputs=[ProcessingStep(name='parsing', function='ai_cookbook.functions.parsing.extract_text_from_pdf', inputs=[DataSource(name='financial_reports', type='volume', path='/Volumes/main/raw_data/financial_reports', format='pdf', catalog='main', schema='agent_app', volume_name='raw_data', table_schema=None, table=None)], output_table='processed_data.extracted_texts', parameters={}), DataSource(name='financial_reports', type='volume', path='/Volumes/main/raw_data/financial_reports', format='pdf', catalog='main', schema='agent_app', volume_name='raw_data', table_schema=None, table=None)] output_table='processed_data.enriched_texts' parameters={} --> O_financial_reports_index\n",
    "```\n",
    "```mermaid\n",
    "graph LR\n",
    "    %% Style definitions\n",
    "    classDef datasource fill:#b3e0ff,stroke:#333,stroke-width:2px;\n",
    "    classDef processing fill:#98fb98,stroke:#333,stroke-width:2px;\n",
    "    classDef output fill:#ffb3b3,stroke:#333,stroke-width:2px;\n",
    "\n",
    "DS_financial_reports[\"financial_reports\"]:::datasource\n",
    "PS_parsing[\"parsing\"]:::processing\n",
    "DS_name='financial_reports' type='volume' path='/Volumes/main/raw_data/financial_reports' format='pdf' catalog='main' schema='agent_app' volume_name='raw_data' table_schema=None table=None --> PS_parsing\n",
    "PS_add_metadata[\"add_metadata\"]:::processing\n",
    "DS_name='parsing' function='ai_cookbook.functions.parsing.extract_text_from_pdf' inputs=[DataSource(name='financial_reports', type='volume', path='/Volumes/main/raw_data/financial_reports', format='pdf', catalog='main', schema='agent_app', volume_name='raw_data', table_schema=None, table=None)] output_table='processed_data.extracted_texts' parameters={} --> PS_add_metadata\n",
    "DS_name='financial_reports' type='volume' path='/Volumes/main/raw_data/financial_reports' format='pdf' catalog='main' schema='agent_app' volume_name='raw_data' table_schema=None table=None --> PS_add_metadata\n",
    "O_financial_reports_index[\"financial_reports_index\"]:::output\n",
    "PS_name='add_metadata' function='ai_cookbook.functions.metadata.add_metadata' inputs=[ProcessingStep(name='parsing', function='ai_cookbook.functions.parsing.extract_text_from_pdf', inputs=[DataSource(name='financial_reports', type='volume', path='/Volumes/main/raw_data/financial_reports', format='pdf', catalog='main', schema='agent_app', volume_name='raw_data', table_schema=None, table=None)], output_table='processed_data.extracted_texts', parameters={}), DataSource(name='financial_reports', type='volume', path='/Volumes/main/raw_data/financial_reports', format='pdf', catalog='main', schema='agent_app', volume_name='raw_data', table_schema=None, table=None)] output_table='processed_data.enriched_texts' parameters={} --> O_financial_reports_index\n",
    "```\n",
    "```mermaid\n",
    "graph LR\n",
    "    %% Style definitions\n",
    "    classDef datasource fill:#b3e0ff,stroke:#333,stroke-width:2px;\n",
    "    classDef processing fill:#98fb98,stroke:#333,stroke-width:2px;\n",
    "    classDef output fill:#ffb3b3,stroke:#333,stroke-width:2px;\n",
    "\n",
    "DS_financial_reports[\"financial_reports\"]:::datasource\n",
    "PS_parsing[\"parsing\"]:::processing\n",
    "DS_name='financial_reports' type='volume' path='/Volumes/main/raw_data/financial_reports' format='pdf' catalog='main' schema='agent_app' volume_name='raw_data' table_schema=None table=None --> PS_parsing\n",
    "PS_add_metadata[\"add_metadata\"]:::processing\n",
    "DS_name='parsing' function='ai_cookbook.functions.parsing.extract_text_from_pdf' inputs=[DataSource(name='financial_reports', type='volume', path='/Volumes/main/raw_data/financial_reports', format='pdf', catalog='main', schema='agent_app', volume_name='raw_data', table_schema=None, table=None)] output_table='processed_data.extracted_texts' parameters={} --> PS_add_metadata\n",
    "DS_name='financial_reports' type='volume' path='/Volumes/main/raw_data/financial_reports' format='pdf' catalog='main' schema='agent_app' volume_name='raw_data' table_schema=None table=None --> PS_add_metadata\n",
    "O_financial_reports_index[\"financial_reports_index\"]:::output\n",
    "PS_name='add_metadata' function='ai_cookbook.functions.metadata.add_metadata' inputs=[ProcessingStep(name='parsing', function='ai_cookbook.functions.parsing.extract_text_from_pdf', inputs=[DataSource(name='financial_reports', type='volume', path='/Volumes/main/raw_data/financial_reports', format='pdf', catalog='main', schema='agent_app', volume_name='raw_data', table_schema=None, table=None)], output_table='processed_data.extracted_texts', parameters={}), DataSource(name='financial_reports', type='volume', path='/Volumes/main/raw_data/financial_reports', format='pdf', catalog='main', schema='agent_app', volume_name='raw_data', table_schema=None, table=None)] output_table='processed_data.enriched_texts' parameters={} --> O_financial_reports_index\n",
    "```\n",
    "```mermaid\n",
    "graph LR\n",
    "    %% Style definitions\n",
    "    classDef datasource fill:#b3e0ff,stroke:#333,stroke-width:2px;\n",
    "    classDef processing fill:#98fb98,stroke:#333,stroke-width:2px;\n",
    "    classDef output fill:#ffb3b3,stroke:#333,stroke-width:2px;\n",
    "\n",
    "DS_financial_reports[\"financial_reports\"]:::datasource\n",
    "PS_parsing[\"parsing\"]:::processing\n",
    "DS_name='financial_reports' type='volume' path='/Volumes/main/raw_data/financial_reports' format='pdf' catalog='main' schema='agent_app' volume_name='raw_data' table_schema=None table=None --> PS_parsing\n",
    "PS_add_metadata[\"add_metadata\"]:::processing\n",
    "DS_name='parsing' function='ai_cookbook.functions.parsing.extract_text_from_pdf' inputs=[DataSource(name='financial_reports', type='volume', path='/Volumes/main/raw_data/financial_reports', format='pdf', catalog='main', schema='agent_app', volume_name='raw_data', table_schema=None, table=None)] output_table='processed_data.extracted_texts' parameters={} --> PS_add_metadata\n",
    "DS_name='financial_reports' type='volume' path='/Volumes/main/raw_data/financial_reports' format='pdf' catalog='main' schema='agent_app' volume_name='raw_data' table_schema=None table=None --> PS_add_metadata\n",
    "O_financial_reports_index[\"financial_reports_index\"]:::output\n",
    "PS_name='add_metadata' function='ai_cookbook.functions.metadata.add_metadata' inputs=[ProcessingStep(name='parsing', function='ai_cookbook.functions.parsing.extract_text_from_pdf', inputs=[DataSource(name='financial_reports', type='volume', path='/Volumes/main/raw_data/financial_reports', format='pdf', catalog='main', schema='agent_app', volume_name='raw_data', table_schema=None, table=None)], output_table='processed_data.extracted_texts', parameters={}), DataSource(name='financial_reports', type='volume', path='/Volumes/main/raw_data/financial_reports', format='pdf', catalog='main', schema='agent_app', volume_name='raw_data', table_schema=None, table=None)] output_table='processed_data.enriched_texts' parameters={} --> O_financial_reports_index\n",
    "```\n",
    "```mermaid\n",
    "graph LR\n",
    "    %% Style definitions\n",
    "    classDef datasource fill:#b3e0ff,stroke:#333,stroke-width:2px;\n",
    "    classDef processing fill:#98fb98,stroke:#333,stroke-width:2px;\n",
    "    classDef output fill:#ffb3b3,stroke:#333,stroke-width:2px;\n",
    "\n",
    "DS_financial_reports[\"financial_reports\"]:::datasource\n",
    "PS_parsing[\"parsing\"]:::processing\n",
    "DS_name='financial_reports' type='volume' path='/Volumes/main/raw_data/financial_reports' format='pdf' catalog='main' schema='agent_app' volume_name='raw_data' table_schema=None table=None --> PS_parsing\n",
    "PS_add_metadata[\"add_metadata\"]:::processing\n",
    "DS_name='parsing' function='ai_cookbook.functions.parsing.extract_text_from_pdf' inputs=[DataSource(name='financial_reports', type='volume', path='/Volumes/main/raw_data/financial_reports', format='pdf', catalog='main', schema='agent_app', volume_name='raw_data', table_schema=None, table=None)] output_table='processed_data.extracted_texts' parameters={} --> PS_add_metadata\n",
    "DS_name='financial_reports' type='volume' path='/Volumes/main/raw_data/financial_reports' format='pdf' catalog='main' schema='agent_app' volume_name='raw_data' table_schema=None table=None --> PS_add_metadata\n",
    "O_financial_reports_index[\"financial_reports_index\"]:::output\n",
    "PS_name='add_metadata' function='ai_cookbook.functions.metadata.add_metadata' inputs"
   ]
  },
  {
   "cell_type": "markdown",
   "metadata": {},
   "source": []
  },
  {
   "cell_type": "code",
   "execution_count": 10,
   "metadata": {},
   "outputs": [
    {
     "data": {
      "application/vnd.jupyter.widget-view+json": {
       "model_id": "8466a6eaf1b94b989f1a6f7d1ba3993d",
       "version_major": 2,
       "version_minor": 0
      },
      "text/plain": [
       "Button(description='Assemble Pipeline', style=ButtonStyle())"
      ]
     },
     "metadata": {},
     "output_type": "display_data"
    },
    {
     "data": {
      "application/vnd.jupyter.widget-view+json": {
       "model_id": "32a5168be39d46199990c4390abbbc27",
       "version_major": 2,
       "version_minor": 0
      },
      "text/plain": [
       "Output()"
      ]
     },
     "metadata": {},
     "output_type": "display_data"
    }
   ],
   "source": [
    "assemble_button = widgets.Button(description='Assemble Pipeline')\n",
    "assemble_output = widgets.Output()\n",
    "\n",
    "def on_assemble_clicked(b):\n",
    "    with assemble_output:\n",
    "        clear_output()\n",
    "        try:\n",
    "            pipeline_config = PipelineConfig(\n",
    "                data_sources=data_sources,\n",
    "                processing_steps=processing_steps,\n",
    "                outputs=outputs\n",
    "            )\n",
    "            print(\"Pipeline Configuration Assembled Successfully!\")\n",
    "            # Optionally display or save the configuration\n",
    "            config_dict = pipeline_config.dict()\n",
    "            print(yaml.dump(config_dict))\n",
    "        except ValidationError as e:\n",
    "            print(\"Validation Error in Pipeline Configuration:\")\n",
    "            print(e)\n",
    "\n",
    "assemble_button.on_click(on_assemble_clicked)\n",
    "\n",
    "display(assemble_button, assemble_output)\n"
   ]
  },
  {
   "cell_type": "code",
   "execution_count": null,
   "metadata": {},
   "outputs": [],
   "source": [
    "run_pipeline_button = widgets.Button(description='Run Pipeline')\n",
    "\n",
    "def on_run_pipeline_clicked(b):\n",
    "    with assemble_output:\n",
    "        clear_output()\n",
    "        try:\n",
    "            pipeline_config = PipelineConfig(\n",
    "                data_sources=data_sources,\n",
    "                processing_steps=processing_steps,\n",
    "                outputs=outputs\n",
    "            )\n",
    "            pipeline = Pipeline(pipeline_config)\n",
    "            pipeline.execute()\n",
    "            print(\"Pipeline executed successfully.\")\n",
    "        except Exception as e:\n",
    "            print(\"Error executing pipeline:\")\n",
    "            print(e)\n",
    "\n",
    "run_pipeline_button.on_click(on_run_pipeline_clicked)\n",
    "\n",
    "display(run_pipeline_button)\n"
   ]
  },
  {
   "cell_type": "code",
   "execution_count": null,
   "metadata": {},
   "outputs": [],
   "source": [
    "save_button = widgets.Button(description='Save Configuration')\n",
    "\n",
    "def on_save_clicked(b):\n",
    "    with assemble_output:\n",
    "        clear_output()\n",
    "        try:\n",
    "            pipeline_config = PipelineConfig(\n",
    "                data_sources=data_sources,\n",
    "                processing_steps=processing_steps,\n",
    "                outputs=outputs\n",
    "            )\n",
    "            config_dict = pipeline_config.dict()\n",
    "            with open('config/generated_pipeline_config.yaml', 'w') as f:\n",
    "                yaml.dump(config_dict, f)\n",
    "            print(\"Configuration saved to 'config/generated_pipeline_config.yaml'.\")\n",
    "        except ValidationError as e:\n",
    "            print(\"Validation Error:\")\n",
    "            print(e)\n",
    "\n",
    "save_button.on_click(on_save_clicked)\n",
    "\n",
    "display(save_button)\n"
   ]
  },
  {
   "cell_type": "code",
   "execution_count": null,
   "metadata": {},
   "outputs": [],
   "source": [
    "load_button = widgets.Button(description='Load Configuration')\n",
    "config_file_input = widgets.Text(description='Config File', value='config/pipeline_config.yaml')\n",
    "\n",
    "def on_load_clicked(b):\n",
    "    with assemble_output:\n",
    "        clear_output()\n",
    "        try:\n",
    "            with open(config_file_input.value, 'r') as f:\n",
    "                config_data = yaml.safe_load(f)\n",
    "            # Clear existing data\n",
    "            data_sources.clear()\n",
    "            processing_steps.clear()\n",
    "            outputs.clear()\n",
    "            # Populate data sources\n",
    "            for ds in config_data.get('data_sources', []):\n",
    "                ds_config = DataSourceConfig(**ds)\n",
    "                data_sources.append(ds_config)\n",
    "                # Update widgets accordingly (if desired)\n",
    "            # Similarly for processing steps and outputs\n",
    "            print(\"Configuration loaded successfully.\")\n",
    "        except Exception as e:\n",
    "            print(\"Error loading configuration:\")\n",
    "            print(e)\n",
    "\n",
    "load_button.on_click(on_load_clicked)\n",
    "\n",
    "display(config_file_input, load_button)\n"
   ]
  }
 ],
 "metadata": {
  "kernelspec": {
   "display_name": ".venv",
   "language": "python",
   "name": "python3"
  },
  "language_info": {
   "codemirror_mode": {
    "name": "ipython",
    "version": 3
   },
   "file_extension": ".py",
   "mimetype": "text/x-python",
   "name": "python",
   "nbconvert_exporter": "python",
   "pygments_lexer": "ipython3",
   "version": "3.11.10"
  }
 },
 "nbformat": 4,
 "nbformat_minor": 2
}
