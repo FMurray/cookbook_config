{
 "cells": [
  {
   "cell_type": "code",
   "execution_count": 3,
   "metadata": {},
   "outputs": [
    {
     "ename": "ModuleNotFoundError",
     "evalue": "No module named 'src'",
     "output_type": "error",
     "traceback": [
      "\u001b[0;31m---------------------------------------------------------------------------\u001b[0m",
      "\u001b[0;31mModuleNotFoundError\u001b[0m                       Traceback (most recent call last)",
      "Cell \u001b[0;32mIn[3], line 3\u001b[0m\n\u001b[1;32m      1\u001b[0m \u001b[38;5;28;01mimport\u001b[39;00m \u001b[38;5;21;01mipywidgets\u001b[39;00m \u001b[38;5;28;01mas\u001b[39;00m \u001b[38;5;21;01mwidgets\u001b[39;00m\n\u001b[1;32m      2\u001b[0m \u001b[38;5;28;01mfrom\u001b[39;00m \u001b[38;5;21;01mIPython\u001b[39;00m\u001b[38;5;21;01m.\u001b[39;00m\u001b[38;5;21;01mdisplay\u001b[39;00m \u001b[38;5;28;01mimport\u001b[39;00m display, clear_output\n\u001b[0;32m----> 3\u001b[0m \u001b[38;5;28;01mfrom\u001b[39;00m \u001b[38;5;21;01msrc\u001b[39;00m\u001b[38;5;21;01m.\u001b[39;00m\u001b[38;5;21;01mpipeline\u001b[39;00m\u001b[38;5;21;01m.\u001b[39;00m\u001b[38;5;21;01mmodels\u001b[39;00m \u001b[38;5;28;01mimport\u001b[39;00m (\n\u001b[1;32m      4\u001b[0m     DataSourceConfig,\n\u001b[1;32m      5\u001b[0m     ProcessingStepConfig,\n\u001b[1;32m      6\u001b[0m     OutputConfig,\n\u001b[1;32m      7\u001b[0m     PipelineConfig\n\u001b[1;32m      8\u001b[0m )\n\u001b[1;32m      9\u001b[0m \u001b[38;5;28;01mfrom\u001b[39;00m \u001b[38;5;21;01mpydantic\u001b[39;00m \u001b[38;5;28;01mimport\u001b[39;00m ValidationError\n\u001b[1;32m     10\u001b[0m \u001b[38;5;28;01mimport\u001b[39;00m \u001b[38;5;21;01myaml\u001b[39;00m\n",
      "\u001b[0;31mModuleNotFoundError\u001b[0m: No module named 'src'"
     ]
    }
   ],
   "source": [
    "import ipywidgets as widgets\n",
    "from IPython.display import display, clear_output\n",
    "from src.pipeline.models import (\n",
    "    DataSourceConfig,\n",
    "    ProcessingStepConfig,\n",
    "    OutputConfig,\n",
    "    PipelineConfig\n",
    ")\n",
    "from pydantic import ValidationError\n",
    "import yaml"
   ]
  },
  {
   "cell_type": "code",
   "execution_count": null,
   "metadata": {},
   "outputs": [],
   "source": [
    "import yaml\n",
    "\n",
    "with open('pipeline_config.yaml', 'r') as f:\n",
    "    config = yaml.safe_load(f)\n",
    "\n",
    "processing_steps = []\n",
    "for step_config in config['processing_steps']:\n",
    "    step = ProcessingStep(\n",
    "        name=step_config['name'],\n",
    "        function=globals()[step_config['function']],\n",
    "        inputs=step_config['inputs'],\n",
    "        output_table=step_config['output_table']\n",
    "    )\n",
    "    processing_steps.append(step)\n",
    "\n",
    "pipeline = Pipeline(processing_steps)\n"
   ]
  },
  {
   "cell_type": "code",
   "execution_count": null,
   "metadata": {},
   "outputs": [],
   "source": [
    "# Widget for Data Source Name\n",
    "ds_name = widgets.Text(description='Name')\n",
    "\n",
    "# Widget for Data Source Type\n",
    "ds_type = widgets.Dropdown(\n",
    "    options=['volume', 'database', 'api'],\n",
    "    description='Type'\n",
    ")\n",
    "\n",
    "# Widget for Path\n",
    "ds_path = widgets.Text(description='Path')\n",
    "\n",
    "# Widgets for Format, Catalog, Schema, Table\n",
    "ds_format = widgets.Text(description='Format')\n",
    "ds_catalog = widgets.Text(description='Catalog')\n",
    "ds_schema = widgets.Text(description='Schema')\n",
    "ds_table = widgets.Text(description='Table')\n",
    "\n",
    "# Button to Add Data Source\n",
    "add_ds_button = widgets.Button(description='Add Data Source')\n",
    "\n",
    "# Output area for Data Source\n",
    "ds_output = widgets.Output()"
   ]
  },
  {
   "cell_type": "code",
   "execution_count": null,
   "metadata": {},
   "outputs": [],
   "source": [
    "data_sources = []\n",
    "\n",
    "def on_add_ds_clicked(b):\n",
    "    with ds_output:\n",
    "        clear_output()\n",
    "        try:\n",
    "            ds_config = DataSourceConfig(\n",
    "                name=ds_name.value,\n",
    "                type=ds_type.value,\n",
    "                path=ds_path.value,\n",
    "                format=ds_format.value,\n",
    "                catalog=ds_catalog.value,\n",
    "                schema=ds_schema.value,\n",
    "                table=ds_table.value\n",
    "            )\n",
    "            data_sources.append(ds_config)\n",
    "            print(f\"Added Data Source: {ds_config.name}\")\n",
    "        except ValidationError as e:\n",
    "            print(\"Validation Error:\")\n",
    "            print(e)\n"
   ]
  },
  {
   "cell_type": "code",
   "execution_count": null,
   "metadata": {},
   "outputs": [],
   "source": [
    "add_ds_button.on_click(on_add_ds_clicked)"
   ]
  },
  {
   "cell_type": "code",
   "execution_count": null,
   "metadata": {},
   "outputs": [],
   "source": [
    "ds_widget_box = widgets.VBox([\n",
    "    ds_name,\n",
    "    ds_type,\n",
    "    ds_path,\n",
    "    ds_format,\n",
    "    ds_catalog,\n",
    "    ds_schema,\n",
    "    ds_table,\n",
    "    add_ds_button,\n",
    "    ds_output\n",
    "])\n",
    "\n",
    "display(ds_widget_box)\n"
   ]
  },
  {
   "cell_type": "code",
   "execution_count": null,
   "metadata": {},
   "outputs": [],
   "source": [
    "assemble_button = widgets.Button(description='Assemble Pipeline')\n",
    "assemble_output = widgets.Output()\n",
    "\n",
    "def on_assemble_clicked(b):\n",
    "    with assemble_output:\n",
    "        clear_output()\n",
    "        try:\n",
    "            pipeline_config = PipelineConfig(\n",
    "                data_sources=data_sources,\n",
    "                processing_steps=processing_steps,\n",
    "                outputs=outputs\n",
    "            )\n",
    "            print(\"Pipeline Configuration Assembled Successfully!\")\n",
    "            # Optionally display or save the configuration\n",
    "            config_dict = pipeline_config.dict()\n",
    "            print(yaml.dump(config_dict))\n",
    "        except ValidationError as e:\n",
    "            print(\"Validation Error in Pipeline Configuration:\")\n",
    "            print(e)\n",
    "\n",
    "assemble_button.on_click(on_assemble_clicked)\n",
    "\n",
    "display(assemble_button, assemble_output)\n"
   ]
  },
  {
   "cell_type": "code",
   "execution_count": null,
   "metadata": {},
   "outputs": [],
   "source": [
    "run_pipeline_button = widgets.Button(description='Run Pipeline')\n",
    "\n",
    "def on_run_pipeline_clicked(b):\n",
    "    with assemble_output:\n",
    "        clear_output()\n",
    "        try:\n",
    "            pipeline_config = PipelineConfig(\n",
    "                data_sources=data_sources,\n",
    "                processing_steps=processing_steps,\n",
    "                outputs=outputs\n",
    "            )\n",
    "            pipeline = Pipeline(pipeline_config)\n",
    "            pipeline.execute()\n",
    "            print(\"Pipeline executed successfully.\")\n",
    "        except Exception as e:\n",
    "            print(\"Error executing pipeline:\")\n",
    "            print(e)\n",
    "\n",
    "run_pipeline_button.on_click(on_run_pipeline_clicked)\n",
    "\n",
    "display(run_pipeline_button)\n"
   ]
  },
  {
   "cell_type": "code",
   "execution_count": null,
   "metadata": {},
   "outputs": [],
   "source": [
    "save_button = widgets.Button(description='Save Configuration')\n",
    "\n",
    "def on_save_clicked(b):\n",
    "    with assemble_output:\n",
    "        clear_output()\n",
    "        try:\n",
    "            pipeline_config = PipelineConfig(\n",
    "                data_sources=data_sources,\n",
    "                processing_steps=processing_steps,\n",
    "                outputs=outputs\n",
    "            )\n",
    "            config_dict = pipeline_config.dict()\n",
    "            with open('config/generated_pipeline_config.yaml', 'w') as f:\n",
    "                yaml.dump(config_dict, f)\n",
    "            print(\"Configuration saved to 'config/generated_pipeline_config.yaml'.\")\n",
    "        except ValidationError as e:\n",
    "            print(\"Validation Error:\")\n",
    "            print(e)\n",
    "\n",
    "save_button.on_click(on_save_clicked)\n",
    "\n",
    "display(save_button)\n"
   ]
  },
  {
   "cell_type": "code",
   "execution_count": null,
   "metadata": {},
   "outputs": [],
   "source": [
    "load_button = widgets.Button(description='Load Configuration')\n",
    "config_file_input = widgets.Text(description='Config File', value='config/pipeline_config.yaml')\n",
    "\n",
    "def on_load_clicked(b):\n",
    "    with assemble_output:\n",
    "        clear_output()\n",
    "        try:\n",
    "            with open(config_file_input.value, 'r') as f:\n",
    "                config_data = yaml.safe_load(f)\n",
    "            # Clear existing data\n",
    "            data_sources.clear()\n",
    "            processing_steps.clear()\n",
    "            outputs.clear()\n",
    "            # Populate data sources\n",
    "            for ds in config_data.get('data_sources', []):\n",
    "                ds_config = DataSourceConfig(**ds)\n",
    "                data_sources.append(ds_config)\n",
    "                # Update widgets accordingly (if desired)\n",
    "            # Similarly for processing steps and outputs\n",
    "            print(\"Configuration loaded successfully.\")\n",
    "        except Exception as e:\n",
    "            print(\"Error loading configuration:\")\n",
    "            print(e)\n",
    "\n",
    "load_button.on_click(on_load_clicked)\n",
    "\n",
    "display(config_file_input, load_button)\n"
   ]
  }
 ],
 "metadata": {
  "kernelspec": {
   "display_name": ".venv",
   "language": "python",
   "name": "python3"
  },
  "language_info": {
   "codemirror_mode": {
    "name": "ipython",
    "version": 3
   },
   "file_extension": ".py",
   "mimetype": "text/x-python",
   "name": "python",
   "nbconvert_exporter": "python",
   "pygments_lexer": "ipython3",
   "version": "3.11.5"
  }
 },
 "nbformat": 4,
 "nbformat_minor": 2
}
