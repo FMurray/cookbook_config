{
 "cells": [
  {
   "cell_type": "code",
   "execution_count": 1,
   "metadata": {},
   "outputs": [
    {
     "name": "stderr",
     "output_type": "stream",
     "text": [
      "/Users/forrest.murray/Documents/devel/cookbook_config/.venv/lib/python3.11/site-packages/pydantic/_internal/_fields.py:172: UserWarning: Field name \"schema\" in \"DataSource\" shadows an attribute in parent \"BaseModel\"\n",
      "  warnings.warn(\n"
     ]
    }
   ],
   "source": [
    "import ipywidgets as widgets\n",
    "from IPython.display import display, clear_output\n",
    "from ai_cookbook.pipeline.data_source import DataSource\n",
    "from ai_cookbook.pipeline.processing_step import ProcessingStep\n",
    "from ai_cookbook.pipeline.output import Output\n",
    "from ai_cookbook.pipeline.pipeline import Pipeline\n",
    "from pydantic import ValidationError, TypeAdapter\n",
    "import yaml"
   ]
  },
  {
   "cell_type": "code",
   "execution_count": 7,
   "metadata": {},
   "outputs": [],
   "source": [
    "with open('../src/ai_cookbook/pipeline_config.yaml', 'r') as f:\n",
    "    config = yaml.safe_load(f)"
   ]
  },
  {
   "cell_type": "code",
   "execution_count": 16,
   "metadata": {},
   "outputs": [
    {
     "ename": "ValidationError",
     "evalue": "9 validation errors for ProcessingStep\ninputs.0.ProcessingStep.name\n  Field required [type=missing, input_value={'data_source': 'financial_reports'}, input_type=dict]\n    For further information visit https://errors.pydantic.dev/2.9/v/missing\ninputs.0.ProcessingStep.function\n  Field required [type=missing, input_value={'data_source': 'financial_reports'}, input_type=dict]\n    For further information visit https://errors.pydantic.dev/2.9/v/missing\ninputs.0.ProcessingStep.inputs\n  Field required [type=missing, input_value={'data_source': 'financial_reports'}, input_type=dict]\n    For further information visit https://errors.pydantic.dev/2.9/v/missing\ninputs.0.ProcessingStep.output_table\n  Field required [type=missing, input_value={'data_source': 'financial_reports'}, input_type=dict]\n    For further information visit https://errors.pydantic.dev/2.9/v/missing\ninputs.0.DataSource.name\n  Field required [type=missing, input_value={'data_source': 'financial_reports'}, input_type=dict]\n    For further information visit https://errors.pydantic.dev/2.9/v/missing\ninputs.0.DataSource.type\n  Field required [type=missing, input_value={'data_source': 'financial_reports'}, input_type=dict]\n    For further information visit https://errors.pydantic.dev/2.9/v/missing\ninputs.0.DataSource.path\n  Field required [type=missing, input_value={'data_source': 'financial_reports'}, input_type=dict]\n    For further information visit https://errors.pydantic.dev/2.9/v/missing\ninputs.0.DataSource.format\n  Field required [type=missing, input_value={'data_source': 'financial_reports'}, input_type=dict]\n    For further information visit https://errors.pydantic.dev/2.9/v/missing\ninputs.0.DataSource.catalog\n  Field required [type=missing, input_value={'data_source': 'financial_reports'}, input_type=dict]\n    For further information visit https://errors.pydantic.dev/2.9/v/missing",
     "output_type": "error",
     "traceback": [
      "\u001b[0;31m---------------------------------------------------------------------------\u001b[0m",
      "\u001b[0;31mValidationError\u001b[0m                           Traceback (most recent call last)",
      "Cell \u001b[0;32mIn[16], line 4\u001b[0m\n\u001b[1;32m      1\u001b[0m data_sources \u001b[38;5;241m=\u001b[39m [\n\u001b[1;32m      2\u001b[0m     TypeAdapter(DataSource)\u001b[38;5;241m.\u001b[39mvalidate_python(ds) \u001b[38;5;28;01mfor\u001b[39;00m ds \u001b[38;5;129;01min\u001b[39;00m config[\u001b[38;5;124m'\u001b[39m\u001b[38;5;124mdata_sources\u001b[39m\u001b[38;5;124m'\u001b[39m]\n\u001b[1;32m      3\u001b[0m ]\n\u001b[0;32m----> 4\u001b[0m processing_steps \u001b[38;5;241m=\u001b[39m \u001b[43m[\u001b[49m\n\u001b[1;32m      5\u001b[0m \u001b[43m    \u001b[49m\u001b[43mTypeAdapter\u001b[49m\u001b[43m(\u001b[49m\u001b[43mProcessingStep\u001b[49m\u001b[43m)\u001b[49m\u001b[38;5;241;43m.\u001b[39;49m\u001b[43mvalidate_python\u001b[49m\u001b[43m(\u001b[49m\u001b[43mps\u001b[49m\u001b[43m)\u001b[49m\u001b[43m \u001b[49m\u001b[38;5;28;43;01mfor\u001b[39;49;00m\u001b[43m \u001b[49m\u001b[43mps\u001b[49m\u001b[43m \u001b[49m\u001b[38;5;129;43;01min\u001b[39;49;00m\u001b[43m \u001b[49m\u001b[43mconfig\u001b[49m\u001b[43m[\u001b[49m\u001b[38;5;124;43m'\u001b[39;49m\u001b[38;5;124;43mprocessing_steps\u001b[39;49m\u001b[38;5;124;43m'\u001b[39;49m\u001b[43m]\u001b[49m\n\u001b[1;32m      6\u001b[0m \u001b[43m]\u001b[49m\n\u001b[1;32m      7\u001b[0m \u001b[38;5;66;03m# outputs = [\u001b[39;00m\n\u001b[1;32m      8\u001b[0m \u001b[38;5;66;03m#     TypeAdapter(Output).validate_python(o) for o in config['outputs']\u001b[39;00m\n\u001b[1;32m      9\u001b[0m \u001b[38;5;66;03m# ]\u001b[39;00m\n",
      "Cell \u001b[0;32mIn[16], line 5\u001b[0m, in \u001b[0;36m<listcomp>\u001b[0;34m(.0)\u001b[0m\n\u001b[1;32m      1\u001b[0m data_sources \u001b[38;5;241m=\u001b[39m [\n\u001b[1;32m      2\u001b[0m     TypeAdapter(DataSource)\u001b[38;5;241m.\u001b[39mvalidate_python(ds) \u001b[38;5;28;01mfor\u001b[39;00m ds \u001b[38;5;129;01min\u001b[39;00m config[\u001b[38;5;124m'\u001b[39m\u001b[38;5;124mdata_sources\u001b[39m\u001b[38;5;124m'\u001b[39m]\n\u001b[1;32m      3\u001b[0m ]\n\u001b[1;32m      4\u001b[0m processing_steps \u001b[38;5;241m=\u001b[39m [\n\u001b[0;32m----> 5\u001b[0m     \u001b[43mTypeAdapter\u001b[49m\u001b[43m(\u001b[49m\u001b[43mProcessingStep\u001b[49m\u001b[43m)\u001b[49m\u001b[38;5;241;43m.\u001b[39;49m\u001b[43mvalidate_python\u001b[49m\u001b[43m(\u001b[49m\u001b[43mps\u001b[49m\u001b[43m)\u001b[49m \u001b[38;5;28;01mfor\u001b[39;00m ps \u001b[38;5;129;01min\u001b[39;00m config[\u001b[38;5;124m'\u001b[39m\u001b[38;5;124mprocessing_steps\u001b[39m\u001b[38;5;124m'\u001b[39m]\n\u001b[1;32m      6\u001b[0m ]\n\u001b[1;32m      7\u001b[0m \u001b[38;5;66;03m# outputs = [\u001b[39;00m\n\u001b[1;32m      8\u001b[0m \u001b[38;5;66;03m#     TypeAdapter(Output).validate_python(o) for o in config['outputs']\u001b[39;00m\n\u001b[1;32m      9\u001b[0m \u001b[38;5;66;03m# ]\u001b[39;00m\n",
      "File \u001b[0;32m~/Documents/devel/cookbook_config/.venv/lib/python3.11/site-packages/pydantic/type_adapter.py:135\u001b[0m, in \u001b[0;36m_frame_depth.<locals>.wrapper.<locals>.wrapped\u001b[0;34m(self, *args, **kwargs)\u001b[0m\n\u001b[1;32m    132\u001b[0m \u001b[38;5;129m@wraps\u001b[39m(func)\n\u001b[1;32m    133\u001b[0m \u001b[38;5;28;01mdef\u001b[39;00m \u001b[38;5;21mwrapped\u001b[39m(\u001b[38;5;28mself\u001b[39m: TypeAdapterT, \u001b[38;5;241m*\u001b[39margs: P\u001b[38;5;241m.\u001b[39margs, \u001b[38;5;241m*\u001b[39m\u001b[38;5;241m*\u001b[39mkwargs: P\u001b[38;5;241m.\u001b[39mkwargs) \u001b[38;5;241m-\u001b[39m\u001b[38;5;241m>\u001b[39m R:\n\u001b[1;32m    134\u001b[0m     \u001b[38;5;28;01mwith\u001b[39;00m \u001b[38;5;28mself\u001b[39m\u001b[38;5;241m.\u001b[39m_with_frame_depth(depth \u001b[38;5;241m+\u001b[39m \u001b[38;5;241m1\u001b[39m):  \u001b[38;5;66;03m# depth + 1 for the wrapper function\u001b[39;00m\n\u001b[0;32m--> 135\u001b[0m         \u001b[38;5;28;01mreturn\u001b[39;00m \u001b[43mfunc\u001b[49m\u001b[43m(\u001b[49m\u001b[38;5;28;43mself\u001b[39;49m\u001b[43m,\u001b[49m\u001b[43m \u001b[49m\u001b[38;5;241;43m*\u001b[39;49m\u001b[43margs\u001b[49m\u001b[43m,\u001b[49m\u001b[43m \u001b[49m\u001b[38;5;241;43m*\u001b[39;49m\u001b[38;5;241;43m*\u001b[39;49m\u001b[43mkwargs\u001b[49m\u001b[43m)\u001b[49m\n",
      "File \u001b[0;32m~/Documents/devel/cookbook_config/.venv/lib/python3.11/site-packages/pydantic/type_adapter.py:366\u001b[0m, in \u001b[0;36mTypeAdapter.validate_python\u001b[0;34m(self, object, strict, from_attributes, context)\u001b[0m\n\u001b[1;32m    341\u001b[0m \u001b[38;5;129m@_frame_depth\u001b[39m(\u001b[38;5;241m1\u001b[39m)\n\u001b[1;32m    342\u001b[0m \u001b[38;5;28;01mdef\u001b[39;00m \u001b[38;5;21mvalidate_python\u001b[39m(\n\u001b[1;32m    343\u001b[0m     \u001b[38;5;28mself\u001b[39m,\n\u001b[0;32m   (...)\u001b[0m\n\u001b[1;32m    349\u001b[0m     context: \u001b[38;5;28mdict\u001b[39m[\u001b[38;5;28mstr\u001b[39m, Any] \u001b[38;5;241m|\u001b[39m \u001b[38;5;28;01mNone\u001b[39;00m \u001b[38;5;241m=\u001b[39m \u001b[38;5;28;01mNone\u001b[39;00m,\n\u001b[1;32m    350\u001b[0m ) \u001b[38;5;241m-\u001b[39m\u001b[38;5;241m>\u001b[39m T:\n\u001b[1;32m    351\u001b[0m \u001b[38;5;250m    \u001b[39m\u001b[38;5;124;03m\"\"\"Validate a Python object against the model.\u001b[39;00m\n\u001b[1;32m    352\u001b[0m \n\u001b[1;32m    353\u001b[0m \u001b[38;5;124;03m    Args:\u001b[39;00m\n\u001b[0;32m   (...)\u001b[0m\n\u001b[1;32m    364\u001b[0m \u001b[38;5;124;03m        The validated object.\u001b[39;00m\n\u001b[1;32m    365\u001b[0m \u001b[38;5;124;03m    \"\"\"\u001b[39;00m\n\u001b[0;32m--> 366\u001b[0m     \u001b[38;5;28;01mreturn\u001b[39;00m \u001b[38;5;28;43mself\u001b[39;49m\u001b[38;5;241;43m.\u001b[39;49m\u001b[43mvalidator\u001b[49m\u001b[38;5;241;43m.\u001b[39;49m\u001b[43mvalidate_python\u001b[49m\u001b[43m(\u001b[49m\u001b[38;5;28;43mobject\u001b[39;49m\u001b[43m,\u001b[49m\u001b[43m \u001b[49m\u001b[43mstrict\u001b[49m\u001b[38;5;241;43m=\u001b[39;49m\u001b[43mstrict\u001b[49m\u001b[43m,\u001b[49m\u001b[43m \u001b[49m\u001b[43mfrom_attributes\u001b[49m\u001b[38;5;241;43m=\u001b[39;49m\u001b[43mfrom_attributes\u001b[49m\u001b[43m,\u001b[49m\u001b[43m \u001b[49m\u001b[43mcontext\u001b[49m\u001b[38;5;241;43m=\u001b[39;49m\u001b[43mcontext\u001b[49m\u001b[43m)\u001b[49m\n",
      "\u001b[0;31mValidationError\u001b[0m: 9 validation errors for ProcessingStep\ninputs.0.ProcessingStep.name\n  Field required [type=missing, input_value={'data_source': 'financial_reports'}, input_type=dict]\n    For further information visit https://errors.pydantic.dev/2.9/v/missing\ninputs.0.ProcessingStep.function\n  Field required [type=missing, input_value={'data_source': 'financial_reports'}, input_type=dict]\n    For further information visit https://errors.pydantic.dev/2.9/v/missing\ninputs.0.ProcessingStep.inputs\n  Field required [type=missing, input_value={'data_source': 'financial_reports'}, input_type=dict]\n    For further information visit https://errors.pydantic.dev/2.9/v/missing\ninputs.0.ProcessingStep.output_table\n  Field required [type=missing, input_value={'data_source': 'financial_reports'}, input_type=dict]\n    For further information visit https://errors.pydantic.dev/2.9/v/missing\ninputs.0.DataSource.name\n  Field required [type=missing, input_value={'data_source': 'financial_reports'}, input_type=dict]\n    For further information visit https://errors.pydantic.dev/2.9/v/missing\ninputs.0.DataSource.type\n  Field required [type=missing, input_value={'data_source': 'financial_reports'}, input_type=dict]\n    For further information visit https://errors.pydantic.dev/2.9/v/missing\ninputs.0.DataSource.path\n  Field required [type=missing, input_value={'data_source': 'financial_reports'}, input_type=dict]\n    For further information visit https://errors.pydantic.dev/2.9/v/missing\ninputs.0.DataSource.format\n  Field required [type=missing, input_value={'data_source': 'financial_reports'}, input_type=dict]\n    For further information visit https://errors.pydantic.dev/2.9/v/missing\ninputs.0.DataSource.catalog\n  Field required [type=missing, input_value={'data_source': 'financial_reports'}, input_type=dict]\n    For further information visit https://errors.pydantic.dev/2.9/v/missing"
     ]
    }
   ],
   "source": [
    "data_sources = [\n",
    "    TypeAdapter(DataSource).validate_python(ds) for ds in config['data_sources']\n",
    "]\n",
    "processing_steps = [\n",
    "    TypeAdapter(ProcessingStep).validate_python(ps) for ps in config['processing_steps']\n",
    "]\n",
    "# outputs = [\n",
    "#     TypeAdapter(Output).validate_python(o) for o in config['outputs']\n",
    "# ]"
   ]
  },
  {
   "cell_type": "code",
   "execution_count": 11,
   "metadata": {},
   "outputs": [
    {
     "ename": "ValidationError",
     "evalue": "3 validation errors for Pipeline\ndata_sources\n  Field required [type=missing, input_value={'__root__': {'version': ...ncial_reports_index'}]}}, input_type=dict]\n    For further information visit https://errors.pydantic.dev/2.9/v/missing\nprocessing_steps\n  Field required [type=missing, input_value={'__root__': {'version': ...ncial_reports_index'}]}}, input_type=dict]\n    For further information visit https://errors.pydantic.dev/2.9/v/missing\noutputs\n  Field required [type=missing, input_value={'__root__': {'version': ...ncial_reports_index'}]}}, input_type=dict]\n    For further information visit https://errors.pydantic.dev/2.9/v/missing",
     "output_type": "error",
     "traceback": [
      "\u001b[0;31m---------------------------------------------------------------------------\u001b[0m",
      "\u001b[0;31mValidationError\u001b[0m                           Traceback (most recent call last)",
      "Cell \u001b[0;32mIn[11], line 4\u001b[0m\n\u001b[1;32m      1\u001b[0m \u001b[38;5;28;01mfrom\u001b[39;00m \u001b[38;5;21;01mpydantic\u001b[39;00m \u001b[38;5;28;01mimport\u001b[39;00m TypeAdapter\n\u001b[1;32m      2\u001b[0m \u001b[38;5;28;01mfrom\u001b[39;00m \u001b[38;5;21;01mai_cookbook\u001b[39;00m\u001b[38;5;21;01m.\u001b[39;00m\u001b[38;5;21;01mpipeline\u001b[39;00m\u001b[38;5;21;01m.\u001b[39;00m\u001b[38;5;21;01mpipeline\u001b[39;00m \u001b[38;5;28;01mimport\u001b[39;00m Pipeline\n\u001b[0;32m----> 4\u001b[0m config \u001b[38;5;241m=\u001b[39m \u001b[43mTypeAdapter\u001b[49m\u001b[43m(\u001b[49m\u001b[43mPipeline\u001b[49m\u001b[43m)\u001b[49m\u001b[38;5;241;43m.\u001b[39;49m\u001b[43mvalidate_python\u001b[49m\u001b[43m(\u001b[49m\u001b[43m{\u001b[49m\u001b[38;5;124;43m\"\u001b[39;49m\u001b[38;5;124;43m__root__\u001b[39;49m\u001b[38;5;124;43m\"\u001b[39;49m\u001b[43m:\u001b[49m\u001b[43m \u001b[49m\u001b[43mconfig\u001b[49m\u001b[43m}\u001b[49m\u001b[43m)\u001b[49m\n",
      "File \u001b[0;32m~/Documents/devel/cookbook_config/.venv/lib/python3.11/site-packages/pydantic/type_adapter.py:135\u001b[0m, in \u001b[0;36m_frame_depth.<locals>.wrapper.<locals>.wrapped\u001b[0;34m(self, *args, **kwargs)\u001b[0m\n\u001b[1;32m    132\u001b[0m \u001b[38;5;129m@wraps\u001b[39m(func)\n\u001b[1;32m    133\u001b[0m \u001b[38;5;28;01mdef\u001b[39;00m \u001b[38;5;21mwrapped\u001b[39m(\u001b[38;5;28mself\u001b[39m: TypeAdapterT, \u001b[38;5;241m*\u001b[39margs: P\u001b[38;5;241m.\u001b[39margs, \u001b[38;5;241m*\u001b[39m\u001b[38;5;241m*\u001b[39mkwargs: P\u001b[38;5;241m.\u001b[39mkwargs) \u001b[38;5;241m-\u001b[39m\u001b[38;5;241m>\u001b[39m R:\n\u001b[1;32m    134\u001b[0m     \u001b[38;5;28;01mwith\u001b[39;00m \u001b[38;5;28mself\u001b[39m\u001b[38;5;241m.\u001b[39m_with_frame_depth(depth \u001b[38;5;241m+\u001b[39m \u001b[38;5;241m1\u001b[39m):  \u001b[38;5;66;03m# depth + 1 for the wrapper function\u001b[39;00m\n\u001b[0;32m--> 135\u001b[0m         \u001b[38;5;28;01mreturn\u001b[39;00m \u001b[43mfunc\u001b[49m\u001b[43m(\u001b[49m\u001b[38;5;28;43mself\u001b[39;49m\u001b[43m,\u001b[49m\u001b[43m \u001b[49m\u001b[38;5;241;43m*\u001b[39;49m\u001b[43margs\u001b[49m\u001b[43m,\u001b[49m\u001b[43m \u001b[49m\u001b[38;5;241;43m*\u001b[39;49m\u001b[38;5;241;43m*\u001b[39;49m\u001b[43mkwargs\u001b[49m\u001b[43m)\u001b[49m\n",
      "File \u001b[0;32m~/Documents/devel/cookbook_config/.venv/lib/python3.11/site-packages/pydantic/type_adapter.py:366\u001b[0m, in \u001b[0;36mTypeAdapter.validate_python\u001b[0;34m(self, object, strict, from_attributes, context)\u001b[0m\n\u001b[1;32m    341\u001b[0m \u001b[38;5;129m@_frame_depth\u001b[39m(\u001b[38;5;241m1\u001b[39m)\n\u001b[1;32m    342\u001b[0m \u001b[38;5;28;01mdef\u001b[39;00m \u001b[38;5;21mvalidate_python\u001b[39m(\n\u001b[1;32m    343\u001b[0m     \u001b[38;5;28mself\u001b[39m,\n\u001b[0;32m   (...)\u001b[0m\n\u001b[1;32m    349\u001b[0m     context: \u001b[38;5;28mdict\u001b[39m[\u001b[38;5;28mstr\u001b[39m, Any] \u001b[38;5;241m|\u001b[39m \u001b[38;5;28;01mNone\u001b[39;00m \u001b[38;5;241m=\u001b[39m \u001b[38;5;28;01mNone\u001b[39;00m,\n\u001b[1;32m    350\u001b[0m ) \u001b[38;5;241m-\u001b[39m\u001b[38;5;241m>\u001b[39m T:\n\u001b[1;32m    351\u001b[0m \u001b[38;5;250m    \u001b[39m\u001b[38;5;124;03m\"\"\"Validate a Python object against the model.\u001b[39;00m\n\u001b[1;32m    352\u001b[0m \n\u001b[1;32m    353\u001b[0m \u001b[38;5;124;03m    Args:\u001b[39;00m\n\u001b[0;32m   (...)\u001b[0m\n\u001b[1;32m    364\u001b[0m \u001b[38;5;124;03m        The validated object.\u001b[39;00m\n\u001b[1;32m    365\u001b[0m \u001b[38;5;124;03m    \"\"\"\u001b[39;00m\n\u001b[0;32m--> 366\u001b[0m     \u001b[38;5;28;01mreturn\u001b[39;00m \u001b[38;5;28;43mself\u001b[39;49m\u001b[38;5;241;43m.\u001b[39;49m\u001b[43mvalidator\u001b[49m\u001b[38;5;241;43m.\u001b[39;49m\u001b[43mvalidate_python\u001b[49m\u001b[43m(\u001b[49m\u001b[38;5;28;43mobject\u001b[39;49m\u001b[43m,\u001b[49m\u001b[43m \u001b[49m\u001b[43mstrict\u001b[49m\u001b[38;5;241;43m=\u001b[39;49m\u001b[43mstrict\u001b[49m\u001b[43m,\u001b[49m\u001b[43m \u001b[49m\u001b[43mfrom_attributes\u001b[49m\u001b[38;5;241;43m=\u001b[39;49m\u001b[43mfrom_attributes\u001b[49m\u001b[43m,\u001b[49m\u001b[43m \u001b[49m\u001b[43mcontext\u001b[49m\u001b[38;5;241;43m=\u001b[39;49m\u001b[43mcontext\u001b[49m\u001b[43m)\u001b[49m\n",
      "\u001b[0;31mValidationError\u001b[0m: 3 validation errors for Pipeline\ndata_sources\n  Field required [type=missing, input_value={'__root__': {'version': ...ncial_reports_index'}]}}, input_type=dict]\n    For further information visit https://errors.pydantic.dev/2.9/v/missing\nprocessing_steps\n  Field required [type=missing, input_value={'__root__': {'version': ...ncial_reports_index'}]}}, input_type=dict]\n    For further information visit https://errors.pydantic.dev/2.9/v/missing\noutputs\n  Field required [type=missing, input_value={'__root__': {'version': ...ncial_reports_index'}]}}, input_type=dict]\n    For further information visit https://errors.pydantic.dev/2.9/v/missing"
     ]
    }
   ],
   "source": [
    "from pydantic import TypeAdapter\n",
    "from ai_cookbook.pipeline.pipeline import Pipeline\n",
    "\n",
    "config = TypeAdapter(Pipeline).validate_python({\"__root__\": config})"
   ]
  },
  {
   "cell_type": "code",
   "execution_count": 6,
   "metadata": {},
   "outputs": [
    {
     "ename": "ValidationError",
     "evalue": "9 validation errors for ProcessingStep\ninputs.0.ProcessingStep.name\n  Field required [type=missing, input_value={'data_source': 'financial_reports'}, input_type=dict]\n    For further information visit https://errors.pydantic.dev/2.9/v/missing\ninputs.0.ProcessingStep.function\n  Field required [type=missing, input_value={'data_source': 'financial_reports'}, input_type=dict]\n    For further information visit https://errors.pydantic.dev/2.9/v/missing\ninputs.0.ProcessingStep.inputs\n  Field required [type=missing, input_value={'data_source': 'financial_reports'}, input_type=dict]\n    For further information visit https://errors.pydantic.dev/2.9/v/missing\ninputs.0.ProcessingStep.output_table\n  Field required [type=missing, input_value={'data_source': 'financial_reports'}, input_type=dict]\n    For further information visit https://errors.pydantic.dev/2.9/v/missing\ninputs.0.DataSource.name\n  Field required [type=missing, input_value={'data_source': 'financial_reports'}, input_type=dict]\n    For further information visit https://errors.pydantic.dev/2.9/v/missing\ninputs.0.DataSource.type\n  Field required [type=missing, input_value={'data_source': 'financial_reports'}, input_type=dict]\n    For further information visit https://errors.pydantic.dev/2.9/v/missing\ninputs.0.DataSource.path\n  Field required [type=missing, input_value={'data_source': 'financial_reports'}, input_type=dict]\n    For further information visit https://errors.pydantic.dev/2.9/v/missing\ninputs.0.DataSource.format\n  Field required [type=missing, input_value={'data_source': 'financial_reports'}, input_type=dict]\n    For further information visit https://errors.pydantic.dev/2.9/v/missing\ninputs.0.DataSource.catalog\n  Field required [type=missing, input_value={'data_source': 'financial_reports'}, input_type=dict]\n    For further information visit https://errors.pydantic.dev/2.9/v/missing",
     "output_type": "error",
     "traceback": [
      "\u001b[0;31m---------------------------------------------------------------------------\u001b[0m",
      "\u001b[0;31mValidationError\u001b[0m                           Traceback (most recent call last)",
      "Cell \u001b[0;32mIn[6], line 8\u001b[0m\n\u001b[1;32m      6\u001b[0m processing_steps \u001b[38;5;241m=\u001b[39m []\n\u001b[1;32m      7\u001b[0m \u001b[38;5;28;01mfor\u001b[39;00m step_config \u001b[38;5;129;01min\u001b[39;00m config[\u001b[38;5;124m'\u001b[39m\u001b[38;5;124mprocessing_steps\u001b[39m\u001b[38;5;124m'\u001b[39m]:\n\u001b[0;32m----> 8\u001b[0m     step \u001b[38;5;241m=\u001b[39m \u001b[43mProcessingStep\u001b[49m\u001b[43m(\u001b[49m\n\u001b[1;32m      9\u001b[0m \u001b[43m        \u001b[49m\u001b[43mname\u001b[49m\u001b[38;5;241;43m=\u001b[39;49m\u001b[43mstep_config\u001b[49m\u001b[43m[\u001b[49m\u001b[38;5;124;43m'\u001b[39;49m\u001b[38;5;124;43mname\u001b[39;49m\u001b[38;5;124;43m'\u001b[39;49m\u001b[43m]\u001b[49m\u001b[43m,\u001b[49m\n\u001b[1;32m     10\u001b[0m \u001b[43m        \u001b[49m\u001b[43mfunction\u001b[49m\u001b[38;5;241;43m=\u001b[39;49m\u001b[38;5;124;43m\"\u001b[39;49m\u001b[38;5;124;43mai_cookbook.pipeline.processing_step.ProcessingStep\u001b[39;49m\u001b[38;5;124;43m\"\u001b[39;49m\u001b[43m,\u001b[49m\n\u001b[1;32m     11\u001b[0m \u001b[43m        \u001b[49m\u001b[43minputs\u001b[49m\u001b[38;5;241;43m=\u001b[39;49m\u001b[43mstep_config\u001b[49m\u001b[43m[\u001b[49m\u001b[38;5;124;43m'\u001b[39;49m\u001b[38;5;124;43minputs\u001b[39;49m\u001b[38;5;124;43m'\u001b[39;49m\u001b[43m]\u001b[49m\u001b[43m,\u001b[49m\n\u001b[1;32m     12\u001b[0m \u001b[43m        \u001b[49m\u001b[43moutput_table\u001b[49m\u001b[38;5;241;43m=\u001b[39;49m\u001b[43mstep_config\u001b[49m\u001b[43m[\u001b[49m\u001b[38;5;124;43m'\u001b[39;49m\u001b[38;5;124;43moutput_table\u001b[39;49m\u001b[38;5;124;43m'\u001b[39;49m\u001b[43m]\u001b[49m\n\u001b[1;32m     13\u001b[0m \u001b[43m    \u001b[49m\u001b[43m)\u001b[49m\n\u001b[1;32m     14\u001b[0m     processing_steps\u001b[38;5;241m.\u001b[39mappend(step)\n\u001b[1;32m     16\u001b[0m pipeline \u001b[38;5;241m=\u001b[39m Pipeline(processing_steps)\n",
      "File \u001b[0;32m~/Documents/devel/cookbook_config/.venv/lib/python3.11/site-packages/pydantic/main.py:212\u001b[0m, in \u001b[0;36mBaseModel.__init__\u001b[0;34m(self, **data)\u001b[0m\n\u001b[1;32m    210\u001b[0m \u001b[38;5;66;03m# `__tracebackhide__` tells pytest and some other tools to omit this function from tracebacks\u001b[39;00m\n\u001b[1;32m    211\u001b[0m __tracebackhide__ \u001b[38;5;241m=\u001b[39m \u001b[38;5;28;01mTrue\u001b[39;00m\n\u001b[0;32m--> 212\u001b[0m validated_self \u001b[38;5;241m=\u001b[39m \u001b[38;5;28;43mself\u001b[39;49m\u001b[38;5;241;43m.\u001b[39;49m\u001b[43m__pydantic_validator__\u001b[49m\u001b[38;5;241;43m.\u001b[39;49m\u001b[43mvalidate_python\u001b[49m\u001b[43m(\u001b[49m\u001b[43mdata\u001b[49m\u001b[43m,\u001b[49m\u001b[43m \u001b[49m\u001b[43mself_instance\u001b[49m\u001b[38;5;241;43m=\u001b[39;49m\u001b[38;5;28;43mself\u001b[39;49m\u001b[43m)\u001b[49m\n\u001b[1;32m    213\u001b[0m \u001b[38;5;28;01mif\u001b[39;00m \u001b[38;5;28mself\u001b[39m \u001b[38;5;129;01mis\u001b[39;00m \u001b[38;5;129;01mnot\u001b[39;00m validated_self:\n\u001b[1;32m    214\u001b[0m     warnings\u001b[38;5;241m.\u001b[39mwarn(\n\u001b[1;32m    215\u001b[0m         \u001b[38;5;124m'\u001b[39m\u001b[38;5;124mA custom validator is returning a value other than `self`.\u001b[39m\u001b[38;5;130;01m\\n\u001b[39;00m\u001b[38;5;124m'\u001b[39m\n\u001b[1;32m    216\u001b[0m         \u001b[38;5;124m\"\u001b[39m\u001b[38;5;124mReturning anything other than `self` from a top level model validator isn\u001b[39m\u001b[38;5;124m'\u001b[39m\u001b[38;5;124mt supported when validating via `__init__`.\u001b[39m\u001b[38;5;130;01m\\n\u001b[39;00m\u001b[38;5;124m\"\u001b[39m\n\u001b[1;32m    217\u001b[0m         \u001b[38;5;124m'\u001b[39m\u001b[38;5;124mSee the `model_validator` docs (https://docs.pydantic.dev/latest/concepts/validators/#model-validators) for more details.\u001b[39m\u001b[38;5;124m'\u001b[39m,\n\u001b[1;32m    218\u001b[0m         category\u001b[38;5;241m=\u001b[39m\u001b[38;5;28;01mNone\u001b[39;00m,\n\u001b[1;32m    219\u001b[0m     )\n",
      "\u001b[0;31mValidationError\u001b[0m: 9 validation errors for ProcessingStep\ninputs.0.ProcessingStep.name\n  Field required [type=missing, input_value={'data_source': 'financial_reports'}, input_type=dict]\n    For further information visit https://errors.pydantic.dev/2.9/v/missing\ninputs.0.ProcessingStep.function\n  Field required [type=missing, input_value={'data_source': 'financial_reports'}, input_type=dict]\n    For further information visit https://errors.pydantic.dev/2.9/v/missing\ninputs.0.ProcessingStep.inputs\n  Field required [type=missing, input_value={'data_source': 'financial_reports'}, input_type=dict]\n    For further information visit https://errors.pydantic.dev/2.9/v/missing\ninputs.0.ProcessingStep.output_table\n  Field required [type=missing, input_value={'data_source': 'financial_reports'}, input_type=dict]\n    For further information visit https://errors.pydantic.dev/2.9/v/missing\ninputs.0.DataSource.name\n  Field required [type=missing, input_value={'data_source': 'financial_reports'}, input_type=dict]\n    For further information visit https://errors.pydantic.dev/2.9/v/missing\ninputs.0.DataSource.type\n  Field required [type=missing, input_value={'data_source': 'financial_reports'}, input_type=dict]\n    For further information visit https://errors.pydantic.dev/2.9/v/missing\ninputs.0.DataSource.path\n  Field required [type=missing, input_value={'data_source': 'financial_reports'}, input_type=dict]\n    For further information visit https://errors.pydantic.dev/2.9/v/missing\ninputs.0.DataSource.format\n  Field required [type=missing, input_value={'data_source': 'financial_reports'}, input_type=dict]\n    For further information visit https://errors.pydantic.dev/2.9/v/missing\ninputs.0.DataSource.catalog\n  Field required [type=missing, input_value={'data_source': 'financial_reports'}, input_type=dict]\n    For further information visit https://errors.pydantic.dev/2.9/v/missing"
     ]
    }
   ],
   "source": [
    "processing_steps = []\n",
    "for step_config in config['processing_steps']:\n",
    "    step = ProcessingStep(\n",
    "        name=step_config['name'],\n",
    "        function=\"ai_cookbook.pipeline.processing_step.ProcessingStep\",\n",
    "        inputs=step_config['inputs'],\n",
    "        output_table=step_config['output_table']\n",
    "    )\n",
    "    processing_steps.append(step)\n",
    "\n",
    "pipeline = Pipeline(processing_steps)\n"
   ]
  },
  {
   "cell_type": "code",
   "execution_count": null,
   "metadata": {},
   "outputs": [],
   "source": [
    "# Widget for Data Source Name\n",
    "ds_name = widgets.Text(description='Name')\n",
    "\n",
    "# Widget for Data Source Type\n",
    "ds_type = widgets.Dropdown(\n",
    "    options=['volume', 'database', 'api'],\n",
    "    description='Type'\n",
    ")\n",
    "\n",
    "# Widget for Path\n",
    "ds_path = widgets.Text(description='Path')\n",
    "\n",
    "# Widgets for Format, Catalog, Schema, Table\n",
    "ds_format = widgets.Text(description='Format')\n",
    "ds_catalog = widgets.Text(description='Catalog')\n",
    "ds_schema = widgets.Text(description='Schema')\n",
    "ds_table = widgets.Text(description='Table')\n",
    "\n",
    "# Button to Add Data Source\n",
    "add_ds_button = widgets.Button(description='Add Data Source')\n",
    "\n",
    "# Output area for Data Source\n",
    "ds_output = widgets.Output()"
   ]
  },
  {
   "cell_type": "code",
   "execution_count": null,
   "metadata": {},
   "outputs": [],
   "source": [
    "data_sources = []\n",
    "\n",
    "def on_add_ds_clicked(b):\n",
    "    with ds_output:\n",
    "        clear_output()\n",
    "        try:\n",
    "            ds_config = DataSourceConfig(\n",
    "                name=ds_name.value,\n",
    "                type=ds_type.value,\n",
    "                path=ds_path.value,\n",
    "                format=ds_format.value,\n",
    "                catalog=ds_catalog.value,\n",
    "                schema=ds_schema.value,\n",
    "                table=ds_table.value\n",
    "            )\n",
    "            data_sources.append(ds_config)\n",
    "            print(f\"Added Data Source: {ds_config.name}\")\n",
    "        except ValidationError as e:\n",
    "            print(\"Validation Error:\")\n",
    "            print(e)\n"
   ]
  },
  {
   "cell_type": "code",
   "execution_count": null,
   "metadata": {},
   "outputs": [],
   "source": [
    "add_ds_button.on_click(on_add_ds_clicked)"
   ]
  },
  {
   "cell_type": "code",
   "execution_count": null,
   "metadata": {},
   "outputs": [],
   "source": [
    "ds_widget_box = widgets.VBox([\n",
    "    ds_name,\n",
    "    ds_type,\n",
    "    ds_path,\n",
    "    ds_format,\n",
    "    ds_catalog,\n",
    "    ds_schema,\n",
    "    ds_table,\n",
    "    add_ds_button,\n",
    "    ds_output\n",
    "])\n",
    "\n",
    "display(ds_widget_box)\n"
   ]
  },
  {
   "cell_type": "code",
   "execution_count": null,
   "metadata": {},
   "outputs": [],
   "source": [
    "assemble_button = widgets.Button(description='Assemble Pipeline')\n",
    "assemble_output = widgets.Output()\n",
    "\n",
    "def on_assemble_clicked(b):\n",
    "    with assemble_output:\n",
    "        clear_output()\n",
    "        try:\n",
    "            pipeline_config = PipelineConfig(\n",
    "                data_sources=data_sources,\n",
    "                processing_steps=processing_steps,\n",
    "                outputs=outputs\n",
    "            )\n",
    "            print(\"Pipeline Configuration Assembled Successfully!\")\n",
    "            # Optionally display or save the configuration\n",
    "            config_dict = pipeline_config.dict()\n",
    "            print(yaml.dump(config_dict))\n",
    "        except ValidationError as e:\n",
    "            print(\"Validation Error in Pipeline Configuration:\")\n",
    "            print(e)\n",
    "\n",
    "assemble_button.on_click(on_assemble_clicked)\n",
    "\n",
    "display(assemble_button, assemble_output)\n"
   ]
  },
  {
   "cell_type": "code",
   "execution_count": null,
   "metadata": {},
   "outputs": [],
   "source": [
    "run_pipeline_button = widgets.Button(description='Run Pipeline')\n",
    "\n",
    "def on_run_pipeline_clicked(b):\n",
    "    with assemble_output:\n",
    "        clear_output()\n",
    "        try:\n",
    "            pipeline_config = PipelineConfig(\n",
    "                data_sources=data_sources,\n",
    "                processing_steps=processing_steps,\n",
    "                outputs=outputs\n",
    "            )\n",
    "            pipeline = Pipeline(pipeline_config)\n",
    "            pipeline.execute()\n",
    "            print(\"Pipeline executed successfully.\")\n",
    "        except Exception as e:\n",
    "            print(\"Error executing pipeline:\")\n",
    "            print(e)\n",
    "\n",
    "run_pipeline_button.on_click(on_run_pipeline_clicked)\n",
    "\n",
    "display(run_pipeline_button)\n"
   ]
  },
  {
   "cell_type": "code",
   "execution_count": null,
   "metadata": {},
   "outputs": [],
   "source": [
    "save_button = widgets.Button(description='Save Configuration')\n",
    "\n",
    "def on_save_clicked(b):\n",
    "    with assemble_output:\n",
    "        clear_output()\n",
    "        try:\n",
    "            pipeline_config = PipelineConfig(\n",
    "                data_sources=data_sources,\n",
    "                processing_steps=processing_steps,\n",
    "                outputs=outputs\n",
    "            )\n",
    "            config_dict = pipeline_config.dict()\n",
    "            with open('config/generated_pipeline_config.yaml', 'w') as f:\n",
    "                yaml.dump(config_dict, f)\n",
    "            print(\"Configuration saved to 'config/generated_pipeline_config.yaml'.\")\n",
    "        except ValidationError as e:\n",
    "            print(\"Validation Error:\")\n",
    "            print(e)\n",
    "\n",
    "save_button.on_click(on_save_clicked)\n",
    "\n",
    "display(save_button)\n"
   ]
  },
  {
   "cell_type": "code",
   "execution_count": null,
   "metadata": {},
   "outputs": [],
   "source": [
    "load_button = widgets.Button(description='Load Configuration')\n",
    "config_file_input = widgets.Text(description='Config File', value='config/pipeline_config.yaml')\n",
    "\n",
    "def on_load_clicked(b):\n",
    "    with assemble_output:\n",
    "        clear_output()\n",
    "        try:\n",
    "            with open(config_file_input.value, 'r') as f:\n",
    "                config_data = yaml.safe_load(f)\n",
    "            # Clear existing data\n",
    "            data_sources.clear()\n",
    "            processing_steps.clear()\n",
    "            outputs.clear()\n",
    "            # Populate data sources\n",
    "            for ds in config_data.get('data_sources', []):\n",
    "                ds_config = DataSourceConfig(**ds)\n",
    "                data_sources.append(ds_config)\n",
    "                # Update widgets accordingly (if desired)\n",
    "            # Similarly for processing steps and outputs\n",
    "            print(\"Configuration loaded successfully.\")\n",
    "        except Exception as e:\n",
    "            print(\"Error loading configuration:\")\n",
    "            print(e)\n",
    "\n",
    "load_button.on_click(on_load_clicked)\n",
    "\n",
    "display(config_file_input, load_button)\n"
   ]
  }
 ],
 "metadata": {
  "kernelspec": {
   "display_name": ".venv",
   "language": "python",
   "name": "python3"
  },
  "language_info": {
   "codemirror_mode": {
    "name": "ipython",
    "version": 3
   },
   "file_extension": ".py",
   "mimetype": "text/x-python",
   "name": "python",
   "nbconvert_exporter": "python",
   "pygments_lexer": "ipython3",
   "version": "3.11.5"
  }
 },
 "nbformat": 4,
 "nbformat_minor": 2
}
