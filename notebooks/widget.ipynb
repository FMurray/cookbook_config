{
 "cells": [
  {
   "cell_type": "code",
   "execution_count": 1,
   "metadata": {},
   "outputs": [
    {
     "name": "stdout",
     "output_type": "stream",
     "text": [
      "env: ANYWIDGET_HMR=1\n"
     ]
    }
   ],
   "source": [
    "%env ANYWIDGET_HMR=1"
   ]
  },
  {
   "cell_type": "code",
   "execution_count": 2,
   "metadata": {},
   "outputs": [
    {
     "name": "stderr",
     "output_type": "stream",
     "text": [
      "/Users/forrest.murray/Documents/devel/cookbook_config/.venv/lib/python3.11/site-packages/pydantic/_internal/_fields.py:172: UserWarning: Field name \"schema\" in \"DataSource\" shadows an attribute in parent \"BaseModel\"\n",
      "  warnings.warn(\n"
     ]
    },
    {
     "data": {
      "text/html": [
       "<pre style=\"white-space:pre;overflow-x:auto;line-height:normal;font-family:Menlo,'DejaVu Sans Mono',consolas,'Courier New',monospace\"><span style=\"color: #7fbfbf; text-decoration-color: #7fbfbf\">[10/29/24 17:01:40] </span><span style=\"color: #008000; text-decoration-color: #008000\">DEBUG   </span> Populating data                                                           <a href=\"file:///Users/forrest.murray/Documents/devel/cookbook_config/packages/gaic-widget/src/gaic_widget/widget.py\" target=\"_blank\"><span style=\"color: #7f7f7f; text-decoration-color: #7f7f7f\">widget.py</span></a><span style=\"color: #7f7f7f; text-decoration-color: #7f7f7f\">:</span><a href=\"file:///Users/forrest.murray/Documents/devel/cookbook_config/packages/gaic-widget/src/gaic_widget/widget.py#83\" target=\"_blank\"><span style=\"color: #7f7f7f; text-decoration-color: #7f7f7f\">83</span></a>\n",
       "</pre>\n"
      ],
      "text/plain": [
       "\u001b[2;36m[10/29/24 17:01:40]\u001b[0m\u001b[2;36m \u001b[0m\u001b[32mDEBUG   \u001b[0m Populating data                                                           \u001b]8;id=387072;file:///Users/forrest.murray/Documents/devel/cookbook_config/packages/gaic-widget/src/gaic_widget/widget.py\u001b\\\u001b[2mwidget.py\u001b[0m\u001b]8;;\u001b\\\u001b[2m:\u001b[0m\u001b]8;id=965338;file:///Users/forrest.murray/Documents/devel/cookbook_config/packages/gaic-widget/src/gaic_widget/widget.py#83\u001b\\\u001b[2m83\u001b[0m\u001b]8;;\u001b\\\n"
      ]
     },
     "metadata": {},
     "output_type": "display_data"
    },
    {
     "name": "stderr",
     "output_type": "stream",
     "text": [
      "/Users/forrest.murray/Documents/devel/cookbook_config/.venv/lib/python3.11/site-packages/pydantic/main.py:390: UserWarning: Pydantic serializer warnings:\n",
      "  Expected `dict[any, any]` but got `VolumeInfo` with value `VolumeInfo(access_point=N...ype.MANAGED: 'MANAGED'>)` - serialized value may not be as expected\n",
      "  return self.__pydantic_serializer__.to_python(\n",
      "/Users/forrest.murray/Documents/devel/cookbook_config/.venv/lib/python3.11/site-packages/pydantic/main.py:390: UserWarning: Pydantic serializer warnings:\n",
      "  PydanticSerializationUnexpectedValue: Expected `ProcessingStep` but got `DataSource` with value `DataSource(name='financia...leger/financebench/pdf')` - serialized value may not be as expected\n",
      "  PydanticSerializationUnexpectedValue: Expected `dict[any, any]` but got `VolumeInfo` with value `VolumeInfo(access_point=N...ype.MANAGED: 'MANAGED'>)` - serialized value may not be as expected\n",
      "  Expected `dict[any, any]` but got `VolumeInfo` with value `VolumeInfo(access_point=N...ype.MANAGED: 'MANAGED'>)` - serialized value may not be as expected\n",
      "  return self.__pydantic_serializer__.to_python(\n"
     ]
    },
    {
     "data": {
      "application/vnd.jupyter.widget-view+json": {
       "model_id": "503a992d2c7b493ba5857d56301c6325",
       "version_major": 2,
       "version_minor": 1
      },
      "text/plain": [
       "ConfigWidget(catalogs=['field_ai_examples'], data_sources=[{'id': 'financial_reports', 'type': 'source', 'labe…"
      ]
     },
     "execution_count": 2,
     "metadata": {},
     "output_type": "execute_result"
    },
    {
     "data": {
      "text/html": [
       "<pre style=\"white-space:pre;overflow-x:auto;line-height:normal;font-family:Menlo,'DejaVu Sans Mono',consolas,'Courier New',monospace\"><span style=\"color: #7fbfbf; text-decoration-color: #7fbfbf\">[10/29/24 17:01:43] </span><span style=\"color: #008000; text-decoration-color: #008000\">DEBUG   </span> Received custom message: <span style=\"font-weight: bold\">{</span><span style=\"color: #008000; text-decoration-color: #008000\">'type'</span>: <span style=\"color: #008000; text-decoration-color: #008000\">'catalog_selected'</span>, <span style=\"color: #008000; text-decoration-color: #008000\">'catalog'</span>:         <a href=\"file:///Users/forrest.murray/Documents/devel/cookbook_config/packages/gaic-widget/src/gaic_widget/widget.py\" target=\"_blank\"><span style=\"color: #7f7f7f; text-decoration-color: #7f7f7f\">widget.py</span></a><span style=\"color: #7f7f7f; text-decoration-color: #7f7f7f\">:</span><a href=\"file:///Users/forrest.murray/Documents/devel/cookbook_config/packages/gaic-widget/src/gaic_widget/widget.py#180\" target=\"_blank\"><span style=\"color: #7f7f7f; text-decoration-color: #7f7f7f\">180</span></a>\n",
       "<span style=\"color: #7fbfbf; text-decoration-color: #7fbfbf\">                    </span>         <span style=\"color: #008000; text-decoration-color: #008000\">'field_ai_examples'</span><span style=\"font-weight: bold\">}</span>                                                     <span style=\"color: #7f7f7f; text-decoration-color: #7f7f7f\">             </span>\n",
       "</pre>\n"
      ],
      "text/plain": [
       "\u001b[2;36m[10/29/24 17:01:43]\u001b[0m\u001b[2;36m \u001b[0m\u001b[32mDEBUG   \u001b[0m Received custom message: \u001b[1m{\u001b[0m\u001b[32m'type'\u001b[0m: \u001b[32m'catalog_selected'\u001b[0m, \u001b[32m'catalog'\u001b[0m:         \u001b]8;id=775203;file:///Users/forrest.murray/Documents/devel/cookbook_config/packages/gaic-widget/src/gaic_widget/widget.py\u001b\\\u001b[2mwidget.py\u001b[0m\u001b]8;;\u001b\\\u001b[2m:\u001b[0m\u001b]8;id=735796;file:///Users/forrest.murray/Documents/devel/cookbook_config/packages/gaic-widget/src/gaic_widget/widget.py#180\u001b\\\u001b[2m180\u001b[0m\u001b]8;;\u001b\\\n",
       "\u001b[2;36m                    \u001b[0m         \u001b[32m'field_ai_examples'\u001b[0m\u001b[1m}\u001b[0m                                                     \u001b[2m             \u001b[0m\n"
      ]
     },
     "metadata": {},
     "output_type": "display_data"
    },
    {
     "name": "stdout",
     "output_type": "stream",
     "text": [
      "Fetched schemas for catalog field_ai_examples: ['alphaleger', 'default', 'information_schema', 'rag']\n"
     ]
    },
    {
     "data": {
      "text/html": [
       "<pre style=\"white-space:pre;overflow-x:auto;line-height:normal;font-family:Menlo,'DejaVu Sans Mono',consolas,'Courier New',monospace\"><span style=\"color: #7fbfbf; text-decoration-color: #7fbfbf\">                    </span><span style=\"color: #008000; text-decoration-color: #008000\">DEBUG   </span> Received custom message: <span style=\"font-weight: bold\">{</span><span style=\"color: #008000; text-decoration-color: #008000\">'type'</span>: <span style=\"color: #008000; text-decoration-color: #008000\">'volume_request'</span>, <span style=\"color: #008000; text-decoration-color: #008000\">'catalog'</span>:           <a href=\"file:///Users/forrest.murray/Documents/devel/cookbook_config/packages/gaic-widget/src/gaic_widget/widget.py\" target=\"_blank\"><span style=\"color: #7f7f7f; text-decoration-color: #7f7f7f\">widget.py</span></a><span style=\"color: #7f7f7f; text-decoration-color: #7f7f7f\">:</span><a href=\"file:///Users/forrest.murray/Documents/devel/cookbook_config/packages/gaic-widget/src/gaic_widget/widget.py#180\" target=\"_blank\"><span style=\"color: #7f7f7f; text-decoration-color: #7f7f7f\">180</span></a>\n",
       "<span style=\"color: #7fbfbf; text-decoration-color: #7fbfbf\">                    </span>         <span style=\"color: #008000; text-decoration-color: #008000\">'field_ai_examples'</span>, <span style=\"color: #008000; text-decoration-color: #008000\">'schema'</span>: <span style=\"color: #008000; text-decoration-color: #008000\">'alphaleger'</span><span style=\"font-weight: bold\">}</span>                             <span style=\"color: #7f7f7f; text-decoration-color: #7f7f7f\">             </span>\n",
       "</pre>\n"
      ],
      "text/plain": [
       "\u001b[2;36m                   \u001b[0m\u001b[2;36m \u001b[0m\u001b[32mDEBUG   \u001b[0m Received custom message: \u001b[1m{\u001b[0m\u001b[32m'type'\u001b[0m: \u001b[32m'volume_request'\u001b[0m, \u001b[32m'catalog'\u001b[0m:           \u001b]8;id=971696;file:///Users/forrest.murray/Documents/devel/cookbook_config/packages/gaic-widget/src/gaic_widget/widget.py\u001b\\\u001b[2mwidget.py\u001b[0m\u001b]8;;\u001b\\\u001b[2m:\u001b[0m\u001b]8;id=436530;file:///Users/forrest.murray/Documents/devel/cookbook_config/packages/gaic-widget/src/gaic_widget/widget.py#180\u001b\\\u001b[2m180\u001b[0m\u001b]8;;\u001b\\\n",
       "\u001b[2;36m                    \u001b[0m         \u001b[32m'field_ai_examples'\u001b[0m, \u001b[32m'schema'\u001b[0m: \u001b[32m'alphaleger'\u001b[0m\u001b[1m}\u001b[0m                             \u001b[2m             \u001b[0m\n"
      ]
     },
     "metadata": {},
     "output_type": "display_data"
    },
    {
     "data": {
      "text/html": [
       "<pre style=\"white-space:pre;overflow-x:auto;line-height:normal;font-family:Menlo,'DejaVu Sans Mono',consolas,'Courier New',monospace\"><span style=\"color: #7fbfbf; text-decoration-color: #7fbfbf\">[10/29/24 17:01:44] </span><span style=\"color: #008000; text-decoration-color: #008000\">DEBUG   </span> Fetched volumes for field_ai_examples.alphaleger: <span style=\"font-weight: bold\">[</span><span style=\"color: #008000; text-decoration-color: #008000\">'financebench'</span>,       <a href=\"file:///Users/forrest.murray/Documents/devel/cookbook_config/packages/gaic-widget/src/gaic_widget/widget.py\" target=\"_blank\"><span style=\"color: #7f7f7f; text-decoration-color: #7f7f7f\">widget.py</span></a><span style=\"color: #7f7f7f; text-decoration-color: #7f7f7f\">:</span><a href=\"file:///Users/forrest.murray/Documents/devel/cookbook_config/packages/gaic-widget/src/gaic_widget/widget.py#197\" target=\"_blank\"><span style=\"color: #7f7f7f; text-decoration-color: #7f7f7f\">197</span></a>\n",
       "<span style=\"color: #7fbfbf; text-decoration-color: #7fbfbf\">                    </span>         <span style=\"color: #008000; text-decoration-color: #008000\">'sec_rag_doan_payload_assessment_logs_checkpoints'</span>,                      <span style=\"color: #7f7f7f; text-decoration-color: #7f7f7f\">             </span>\n",
       "<span style=\"color: #7fbfbf; text-decoration-color: #7fbfbf\">                    </span>         <span style=\"color: #008000; text-decoration-color: #008000\">'sec_rag_doan_payload_request_logs_checkpoints'</span>,                         <span style=\"color: #7f7f7f; text-decoration-color: #7f7f7f\">             </span>\n",
       "<span style=\"color: #7fbfbf; text-decoration-color: #7fbfbf\">                    </span>         <span style=\"color: #008000; text-decoration-color: #008000\">'sec_rag_payload_assessment_logs_checkpoints'</span>,                           <span style=\"color: #7f7f7f; text-decoration-color: #7f7f7f\">             </span>\n",
       "<span style=\"color: #7fbfbf; text-decoration-color: #7fbfbf\">                    </span>         <span style=\"color: #008000; text-decoration-color: #008000\">'sec_rag_payload_request_logs_checkpoints'</span>, <span style=\"color: #008000; text-decoration-color: #008000\">'synthetic_data'</span><span style=\"font-weight: bold\">]</span>            <span style=\"color: #7f7f7f; text-decoration-color: #7f7f7f\">             </span>\n",
       "</pre>\n"
      ],
      "text/plain": [
       "\u001b[2;36m[10/29/24 17:01:44]\u001b[0m\u001b[2;36m \u001b[0m\u001b[32mDEBUG   \u001b[0m Fetched volumes for field_ai_examples.alphaleger: \u001b[1m[\u001b[0m\u001b[32m'financebench'\u001b[0m,       \u001b]8;id=343789;file:///Users/forrest.murray/Documents/devel/cookbook_config/packages/gaic-widget/src/gaic_widget/widget.py\u001b\\\u001b[2mwidget.py\u001b[0m\u001b]8;;\u001b\\\u001b[2m:\u001b[0m\u001b]8;id=570253;file:///Users/forrest.murray/Documents/devel/cookbook_config/packages/gaic-widget/src/gaic_widget/widget.py#197\u001b\\\u001b[2m197\u001b[0m\u001b]8;;\u001b\\\n",
       "\u001b[2;36m                    \u001b[0m         \u001b[32m'sec_rag_doan_payload_assessment_logs_checkpoints'\u001b[0m,                      \u001b[2m             \u001b[0m\n",
       "\u001b[2;36m                    \u001b[0m         \u001b[32m'sec_rag_doan_payload_request_logs_checkpoints'\u001b[0m,                         \u001b[2m             \u001b[0m\n",
       "\u001b[2;36m                    \u001b[0m         \u001b[32m'sec_rag_payload_assessment_logs_checkpoints'\u001b[0m,                           \u001b[2m             \u001b[0m\n",
       "\u001b[2;36m                    \u001b[0m         \u001b[32m'sec_rag_payload_request_logs_checkpoints'\u001b[0m, \u001b[32m'synthetic_data'\u001b[0m\u001b[1m]\u001b[0m            \u001b[2m             \u001b[0m\n"
      ]
     },
     "metadata": {},
     "output_type": "display_data"
    },
    {
     "data": {
      "text/html": [
       "<pre style=\"white-space:pre;overflow-x:auto;line-height:normal;font-family:Menlo,'DejaVu Sans Mono',consolas,'Courier New',monospace\"><span style=\"color: #7fbfbf; text-decoration-color: #7fbfbf\">                    </span><span style=\"color: #008000; text-decoration-color: #008000\">DEBUG   </span> Received custom message: <span style=\"font-weight: bold\">{</span><span style=\"color: #008000; text-decoration-color: #008000\">'type'</span>: <span style=\"color: #008000; text-decoration-color: #008000\">'catalog_selected'</span>, <span style=\"color: #008000; text-decoration-color: #008000\">'catalog'</span>:         <a href=\"file:///Users/forrest.murray/Documents/devel/cookbook_config/packages/gaic-widget/src/gaic_widget/widget.py\" target=\"_blank\"><span style=\"color: #7f7f7f; text-decoration-color: #7f7f7f\">widget.py</span></a><span style=\"color: #7f7f7f; text-decoration-color: #7f7f7f\">:</span><a href=\"file:///Users/forrest.murray/Documents/devel/cookbook_config/packages/gaic-widget/src/gaic_widget/widget.py#180\" target=\"_blank\"><span style=\"color: #7f7f7f; text-decoration-color: #7f7f7f\">180</span></a>\n",
       "<span style=\"color: #7fbfbf; text-decoration-color: #7fbfbf\">                    </span>         <span style=\"color: #008000; text-decoration-color: #008000\">'field_ai_examples'</span><span style=\"font-weight: bold\">}</span>                                                     <span style=\"color: #7f7f7f; text-decoration-color: #7f7f7f\">             </span>\n",
       "</pre>\n"
      ],
      "text/plain": [
       "\u001b[2;36m                   \u001b[0m\u001b[2;36m \u001b[0m\u001b[32mDEBUG   \u001b[0m Received custom message: \u001b[1m{\u001b[0m\u001b[32m'type'\u001b[0m: \u001b[32m'catalog_selected'\u001b[0m, \u001b[32m'catalog'\u001b[0m:         \u001b]8;id=105590;file:///Users/forrest.murray/Documents/devel/cookbook_config/packages/gaic-widget/src/gaic_widget/widget.py\u001b\\\u001b[2mwidget.py\u001b[0m\u001b]8;;\u001b\\\u001b[2m:\u001b[0m\u001b]8;id=806834;file:///Users/forrest.murray/Documents/devel/cookbook_config/packages/gaic-widget/src/gaic_widget/widget.py#180\u001b\\\u001b[2m180\u001b[0m\u001b]8;;\u001b\\\n",
       "\u001b[2;36m                    \u001b[0m         \u001b[32m'field_ai_examples'\u001b[0m\u001b[1m}\u001b[0m                                                     \u001b[2m             \u001b[0m\n"
      ]
     },
     "metadata": {},
     "output_type": "display_data"
    },
    {
     "name": "stdout",
     "output_type": "stream",
     "text": [
      "Fetched schemas for catalog field_ai_examples: ['alphaleger', 'default', 'information_schema', 'rag']\n"
     ]
    },
    {
     "data": {
      "text/html": [
       "<pre style=\"white-space:pre;overflow-x:auto;line-height:normal;font-family:Menlo,'DejaVu Sans Mono',consolas,'Courier New',monospace\"><span style=\"color: #7fbfbf; text-decoration-color: #7fbfbf\">                    </span><span style=\"color: #008000; text-decoration-color: #008000\">DEBUG   </span> Received custom message: <span style=\"font-weight: bold\">{</span><span style=\"color: #008000; text-decoration-color: #008000\">'type'</span>: <span style=\"color: #008000; text-decoration-color: #008000\">'volume_request'</span>, <span style=\"color: #008000; text-decoration-color: #008000\">'catalog'</span>:           <a href=\"file:///Users/forrest.murray/Documents/devel/cookbook_config/packages/gaic-widget/src/gaic_widget/widget.py\" target=\"_blank\"><span style=\"color: #7f7f7f; text-decoration-color: #7f7f7f\">widget.py</span></a><span style=\"color: #7f7f7f; text-decoration-color: #7f7f7f\">:</span><a href=\"file:///Users/forrest.murray/Documents/devel/cookbook_config/packages/gaic-widget/src/gaic_widget/widget.py#180\" target=\"_blank\"><span style=\"color: #7f7f7f; text-decoration-color: #7f7f7f\">180</span></a>\n",
       "<span style=\"color: #7fbfbf; text-decoration-color: #7fbfbf\">                    </span>         <span style=\"color: #008000; text-decoration-color: #008000\">'field_ai_examples'</span>, <span style=\"color: #008000; text-decoration-color: #008000\">'schema'</span>: <span style=\"color: #008000; text-decoration-color: #008000\">'alphaleger'</span><span style=\"font-weight: bold\">}</span>                             <span style=\"color: #7f7f7f; text-decoration-color: #7f7f7f\">             </span>\n",
       "</pre>\n"
      ],
      "text/plain": [
       "\u001b[2;36m                   \u001b[0m\u001b[2;36m \u001b[0m\u001b[32mDEBUG   \u001b[0m Received custom message: \u001b[1m{\u001b[0m\u001b[32m'type'\u001b[0m: \u001b[32m'volume_request'\u001b[0m, \u001b[32m'catalog'\u001b[0m:           \u001b]8;id=267122;file:///Users/forrest.murray/Documents/devel/cookbook_config/packages/gaic-widget/src/gaic_widget/widget.py\u001b\\\u001b[2mwidget.py\u001b[0m\u001b]8;;\u001b\\\u001b[2m:\u001b[0m\u001b]8;id=921090;file:///Users/forrest.murray/Documents/devel/cookbook_config/packages/gaic-widget/src/gaic_widget/widget.py#180\u001b\\\u001b[2m180\u001b[0m\u001b]8;;\u001b\\\n",
       "\u001b[2;36m                    \u001b[0m         \u001b[32m'field_ai_examples'\u001b[0m, \u001b[32m'schema'\u001b[0m: \u001b[32m'alphaleger'\u001b[0m\u001b[1m}\u001b[0m                             \u001b[2m             \u001b[0m\n"
      ]
     },
     "metadata": {},
     "output_type": "display_data"
    },
    {
     "data": {
      "text/html": [
       "<pre style=\"white-space:pre;overflow-x:auto;line-height:normal;font-family:Menlo,'DejaVu Sans Mono',consolas,'Courier New',monospace\"><span style=\"color: #7fbfbf; text-decoration-color: #7fbfbf\">                    </span><span style=\"color: #008000; text-decoration-color: #008000\">DEBUG   </span> Fetched volumes for field_ai_examples.alphaleger: <span style=\"font-weight: bold\">[</span><span style=\"color: #008000; text-decoration-color: #008000\">'financebench'</span>,       <a href=\"file:///Users/forrest.murray/Documents/devel/cookbook_config/packages/gaic-widget/src/gaic_widget/widget.py\" target=\"_blank\"><span style=\"color: #7f7f7f; text-decoration-color: #7f7f7f\">widget.py</span></a><span style=\"color: #7f7f7f; text-decoration-color: #7f7f7f\">:</span><a href=\"file:///Users/forrest.murray/Documents/devel/cookbook_config/packages/gaic-widget/src/gaic_widget/widget.py#197\" target=\"_blank\"><span style=\"color: #7f7f7f; text-decoration-color: #7f7f7f\">197</span></a>\n",
       "<span style=\"color: #7fbfbf; text-decoration-color: #7fbfbf\">                    </span>         <span style=\"color: #008000; text-decoration-color: #008000\">'sec_rag_doan_payload_assessment_logs_checkpoints'</span>,                      <span style=\"color: #7f7f7f; text-decoration-color: #7f7f7f\">             </span>\n",
       "<span style=\"color: #7fbfbf; text-decoration-color: #7fbfbf\">                    </span>         <span style=\"color: #008000; text-decoration-color: #008000\">'sec_rag_doan_payload_request_logs_checkpoints'</span>,                         <span style=\"color: #7f7f7f; text-decoration-color: #7f7f7f\">             </span>\n",
       "<span style=\"color: #7fbfbf; text-decoration-color: #7fbfbf\">                    </span>         <span style=\"color: #008000; text-decoration-color: #008000\">'sec_rag_payload_assessment_logs_checkpoints'</span>,                           <span style=\"color: #7f7f7f; text-decoration-color: #7f7f7f\">             </span>\n",
       "<span style=\"color: #7fbfbf; text-decoration-color: #7fbfbf\">                    </span>         <span style=\"color: #008000; text-decoration-color: #008000\">'sec_rag_payload_request_logs_checkpoints'</span>, <span style=\"color: #008000; text-decoration-color: #008000\">'synthetic_data'</span><span style=\"font-weight: bold\">]</span>            <span style=\"color: #7f7f7f; text-decoration-color: #7f7f7f\">             </span>\n",
       "</pre>\n"
      ],
      "text/plain": [
       "\u001b[2;36m                   \u001b[0m\u001b[2;36m \u001b[0m\u001b[32mDEBUG   \u001b[0m Fetched volumes for field_ai_examples.alphaleger: \u001b[1m[\u001b[0m\u001b[32m'financebench'\u001b[0m,       \u001b]8;id=185539;file:///Users/forrest.murray/Documents/devel/cookbook_config/packages/gaic-widget/src/gaic_widget/widget.py\u001b\\\u001b[2mwidget.py\u001b[0m\u001b]8;;\u001b\\\u001b[2m:\u001b[0m\u001b]8;id=684210;file:///Users/forrest.murray/Documents/devel/cookbook_config/packages/gaic-widget/src/gaic_widget/widget.py#197\u001b\\\u001b[2m197\u001b[0m\u001b]8;;\u001b\\\n",
       "\u001b[2;36m                    \u001b[0m         \u001b[32m'sec_rag_doan_payload_assessment_logs_checkpoints'\u001b[0m,                      \u001b[2m             \u001b[0m\n",
       "\u001b[2;36m                    \u001b[0m         \u001b[32m'sec_rag_doan_payload_request_logs_checkpoints'\u001b[0m,                         \u001b[2m             \u001b[0m\n",
       "\u001b[2;36m                    \u001b[0m         \u001b[32m'sec_rag_payload_assessment_logs_checkpoints'\u001b[0m,                           \u001b[2m             \u001b[0m\n",
       "\u001b[2;36m                    \u001b[0m         \u001b[32m'sec_rag_payload_request_logs_checkpoints'\u001b[0m, \u001b[32m'synthetic_data'\u001b[0m\u001b[1m]\u001b[0m            \u001b[2m             \u001b[0m\n"
      ]
     },
     "metadata": {},
     "output_type": "display_data"
    },
    {
     "data": {
      "text/html": [
       "<pre style=\"white-space:pre;overflow-x:auto;line-height:normal;font-family:Menlo,'DejaVu Sans Mono',consolas,'Courier New',monospace\"><span style=\"color: #7fbfbf; text-decoration-color: #7fbfbf\">[10/29/24 17:01:54] </span><span style=\"color: #008000; text-decoration-color: #008000\">DEBUG   </span> Received custom message: <span style=\"font-weight: bold\">{</span><span style=\"color: #008000; text-decoration-color: #008000\">'type'</span>: <span style=\"color: #008000; text-decoration-color: #008000\">'volume_request'</span>, <span style=\"color: #008000; text-decoration-color: #008000\">'catalog'</span>:           <a href=\"file:///Users/forrest.murray/Documents/devel/cookbook_config/packages/gaic-widget/src/gaic_widget/widget.py\" target=\"_blank\"><span style=\"color: #7f7f7f; text-decoration-color: #7f7f7f\">widget.py</span></a><span style=\"color: #7f7f7f; text-decoration-color: #7f7f7f\">:</span><a href=\"file:///Users/forrest.murray/Documents/devel/cookbook_config/packages/gaic-widget/src/gaic_widget/widget.py#180\" target=\"_blank\"><span style=\"color: #7f7f7f; text-decoration-color: #7f7f7f\">180</span></a>\n",
       "<span style=\"color: #7fbfbf; text-decoration-color: #7fbfbf\">                    </span>         <span style=\"color: #008000; text-decoration-color: #008000\">'field_ai_examples'</span>, <span style=\"color: #008000; text-decoration-color: #008000\">'schema'</span>: <span style=\"color: #008000; text-decoration-color: #008000\">'rag'</span><span style=\"font-weight: bold\">}</span>                                    <span style=\"color: #7f7f7f; text-decoration-color: #7f7f7f\">             </span>\n",
       "</pre>\n"
      ],
      "text/plain": [
       "\u001b[2;36m[10/29/24 17:01:54]\u001b[0m\u001b[2;36m \u001b[0m\u001b[32mDEBUG   \u001b[0m Received custom message: \u001b[1m{\u001b[0m\u001b[32m'type'\u001b[0m: \u001b[32m'volume_request'\u001b[0m, \u001b[32m'catalog'\u001b[0m:           \u001b]8;id=143055;file:///Users/forrest.murray/Documents/devel/cookbook_config/packages/gaic-widget/src/gaic_widget/widget.py\u001b\\\u001b[2mwidget.py\u001b[0m\u001b]8;;\u001b\\\u001b[2m:\u001b[0m\u001b]8;id=767685;file:///Users/forrest.murray/Documents/devel/cookbook_config/packages/gaic-widget/src/gaic_widget/widget.py#180\u001b\\\u001b[2m180\u001b[0m\u001b]8;;\u001b\\\n",
       "\u001b[2;36m                    \u001b[0m         \u001b[32m'field_ai_examples'\u001b[0m, \u001b[32m'schema'\u001b[0m: \u001b[32m'rag'\u001b[0m\u001b[1m}\u001b[0m                                    \u001b[2m             \u001b[0m\n"
      ]
     },
     "metadata": {},
     "output_type": "display_data"
    },
    {
     "data": {
      "text/html": [
       "<pre style=\"white-space:pre;overflow-x:auto;line-height:normal;font-family:Menlo,'DejaVu Sans Mono',consolas,'Courier New',monospace\"><span style=\"color: #7fbfbf; text-decoration-color: #7fbfbf\">                    </span><span style=\"color: #008000; text-decoration-color: #008000\">DEBUG   </span> Fetched volumes for field_ai_examples.rag: <span style=\"font-weight: bold\">[</span><span style=\"color: #008000; text-decoration-color: #008000\">'checkpoints'</span>,               <a href=\"file:///Users/forrest.murray/Documents/devel/cookbook_config/packages/gaic-widget/src/gaic_widget/widget.py\" target=\"_blank\"><span style=\"color: #7f7f7f; text-decoration-color: #7f7f7f\">widget.py</span></a><span style=\"color: #7f7f7f; text-decoration-color: #7f7f7f\">:</span><a href=\"file:///Users/forrest.murray/Documents/devel/cookbook_config/packages/gaic-widget/src/gaic_widget/widget.py#197\" target=\"_blank\"><span style=\"color: #7f7f7f; text-decoration-color: #7f7f7f\">197</span></a>\n",
       "<span style=\"color: #7fbfbf; text-decoration-color: #7fbfbf\">                    </span>         <span style=\"color: #008000; text-decoration-color: #008000\">'financebench'</span>, <span style=\"color: #008000; text-decoration-color: #008000\">'source_documents'</span><span style=\"font-weight: bold\">]</span>                                      <span style=\"color: #7f7f7f; text-decoration-color: #7f7f7f\">             </span>\n",
       "</pre>\n"
      ],
      "text/plain": [
       "\u001b[2;36m                   \u001b[0m\u001b[2;36m \u001b[0m\u001b[32mDEBUG   \u001b[0m Fetched volumes for field_ai_examples.rag: \u001b[1m[\u001b[0m\u001b[32m'checkpoints'\u001b[0m,               \u001b]8;id=502962;file:///Users/forrest.murray/Documents/devel/cookbook_config/packages/gaic-widget/src/gaic_widget/widget.py\u001b\\\u001b[2mwidget.py\u001b[0m\u001b]8;;\u001b\\\u001b[2m:\u001b[0m\u001b]8;id=136977;file:///Users/forrest.murray/Documents/devel/cookbook_config/packages/gaic-widget/src/gaic_widget/widget.py#197\u001b\\\u001b[2m197\u001b[0m\u001b]8;;\u001b\\\n",
       "\u001b[2;36m                    \u001b[0m         \u001b[32m'financebench'\u001b[0m, \u001b[32m'source_documents'\u001b[0m\u001b[1m]\u001b[0m                                      \u001b[2m             \u001b[0m\n"
      ]
     },
     "metadata": {},
     "output_type": "display_data"
    },
    {
     "data": {
      "text/html": [
       "<pre style=\"white-space:pre;overflow-x:auto;line-height:normal;font-family:Menlo,'DejaVu Sans Mono',consolas,'Courier New',monospace\"><span style=\"color: #7fbfbf; text-decoration-color: #7fbfbf\">[10/29/24 17:03:20] </span><span style=\"color: #008000; text-decoration-color: #008000\">DEBUG   </span> Received custom message: <span style=\"font-weight: bold\">{</span><span style=\"color: #008000; text-decoration-color: #008000\">'type'</span>: <span style=\"color: #008000; text-decoration-color: #008000\">'catalog_selected'</span>, <span style=\"color: #008000; text-decoration-color: #008000\">'catalog'</span>:         <a href=\"file:///Users/forrest.murray/Documents/devel/cookbook_config/packages/gaic-widget/src/gaic_widget/widget.py\" target=\"_blank\"><span style=\"color: #7f7f7f; text-decoration-color: #7f7f7f\">widget.py</span></a><span style=\"color: #7f7f7f; text-decoration-color: #7f7f7f\">:</span><a href=\"file:///Users/forrest.murray/Documents/devel/cookbook_config/packages/gaic-widget/src/gaic_widget/widget.py#180\" target=\"_blank\"><span style=\"color: #7f7f7f; text-decoration-color: #7f7f7f\">180</span></a>\n",
       "<span style=\"color: #7fbfbf; text-decoration-color: #7fbfbf\">                    </span>         <span style=\"color: #008000; text-decoration-color: #008000\">'field_ai_examples'</span><span style=\"font-weight: bold\">}</span>                                                     <span style=\"color: #7f7f7f; text-decoration-color: #7f7f7f\">             </span>\n",
       "</pre>\n"
      ],
      "text/plain": [
       "\u001b[2;36m[10/29/24 17:03:20]\u001b[0m\u001b[2;36m \u001b[0m\u001b[32mDEBUG   \u001b[0m Received custom message: \u001b[1m{\u001b[0m\u001b[32m'type'\u001b[0m: \u001b[32m'catalog_selected'\u001b[0m, \u001b[32m'catalog'\u001b[0m:         \u001b]8;id=149090;file:///Users/forrest.murray/Documents/devel/cookbook_config/packages/gaic-widget/src/gaic_widget/widget.py\u001b\\\u001b[2mwidget.py\u001b[0m\u001b]8;;\u001b\\\u001b[2m:\u001b[0m\u001b]8;id=922379;file:///Users/forrest.murray/Documents/devel/cookbook_config/packages/gaic-widget/src/gaic_widget/widget.py#180\u001b\\\u001b[2m180\u001b[0m\u001b]8;;\u001b\\\n",
       "\u001b[2;36m                    \u001b[0m         \u001b[32m'field_ai_examples'\u001b[0m\u001b[1m}\u001b[0m                                                     \u001b[2m             \u001b[0m\n"
      ]
     },
     "metadata": {},
     "output_type": "display_data"
    },
    {
     "name": "stdout",
     "output_type": "stream",
     "text": [
      "Fetched schemas for catalog field_ai_examples: ['alphaleger', 'default', 'information_schema', 'rag']\n"
     ]
    },
    {
     "data": {
      "text/html": [
       "<pre style=\"white-space:pre;overflow-x:auto;line-height:normal;font-family:Menlo,'DejaVu Sans Mono',consolas,'Courier New',monospace\"><span style=\"color: #7fbfbf; text-decoration-color: #7fbfbf\">                    </span><span style=\"color: #008000; text-decoration-color: #008000\">DEBUG   </span> Received custom message: <span style=\"font-weight: bold\">{</span><span style=\"color: #008000; text-decoration-color: #008000\">'type'</span>: <span style=\"color: #008000; text-decoration-color: #008000\">'volume_request'</span>, <span style=\"color: #008000; text-decoration-color: #008000\">'catalog'</span>:           <a href=\"file:///Users/forrest.murray/Documents/devel/cookbook_config/packages/gaic-widget/src/gaic_widget/widget.py\" target=\"_blank\"><span style=\"color: #7f7f7f; text-decoration-color: #7f7f7f\">widget.py</span></a><span style=\"color: #7f7f7f; text-decoration-color: #7f7f7f\">:</span><a href=\"file:///Users/forrest.murray/Documents/devel/cookbook_config/packages/gaic-widget/src/gaic_widget/widget.py#180\" target=\"_blank\"><span style=\"color: #7f7f7f; text-decoration-color: #7f7f7f\">180</span></a>\n",
       "<span style=\"color: #7fbfbf; text-decoration-color: #7fbfbf\">                    </span>         <span style=\"color: #008000; text-decoration-color: #008000\">'field_ai_examples'</span>, <span style=\"color: #008000; text-decoration-color: #008000\">'schema'</span>: <span style=\"color: #008000; text-decoration-color: #008000\">'alphaleger'</span><span style=\"font-weight: bold\">}</span>                             <span style=\"color: #7f7f7f; text-decoration-color: #7f7f7f\">             </span>\n",
       "</pre>\n"
      ],
      "text/plain": [
       "\u001b[2;36m                   \u001b[0m\u001b[2;36m \u001b[0m\u001b[32mDEBUG   \u001b[0m Received custom message: \u001b[1m{\u001b[0m\u001b[32m'type'\u001b[0m: \u001b[32m'volume_request'\u001b[0m, \u001b[32m'catalog'\u001b[0m:           \u001b]8;id=836899;file:///Users/forrest.murray/Documents/devel/cookbook_config/packages/gaic-widget/src/gaic_widget/widget.py\u001b\\\u001b[2mwidget.py\u001b[0m\u001b]8;;\u001b\\\u001b[2m:\u001b[0m\u001b]8;id=102399;file:///Users/forrest.murray/Documents/devel/cookbook_config/packages/gaic-widget/src/gaic_widget/widget.py#180\u001b\\\u001b[2m180\u001b[0m\u001b]8;;\u001b\\\n",
       "\u001b[2;36m                    \u001b[0m         \u001b[32m'field_ai_examples'\u001b[0m, \u001b[32m'schema'\u001b[0m: \u001b[32m'alphaleger'\u001b[0m\u001b[1m}\u001b[0m                             \u001b[2m             \u001b[0m\n"
      ]
     },
     "metadata": {},
     "output_type": "display_data"
    },
    {
     "data": {
      "text/html": [
       "<pre style=\"white-space:pre;overflow-x:auto;line-height:normal;font-family:Menlo,'DejaVu Sans Mono',consolas,'Courier New',monospace\"><span style=\"color: #7fbfbf; text-decoration-color: #7fbfbf\">[10/29/24 17:03:21] </span><span style=\"color: #008000; text-decoration-color: #008000\">DEBUG   </span> Fetched volumes for field_ai_examples.alphaleger: <span style=\"font-weight: bold\">[</span><span style=\"color: #008000; text-decoration-color: #008000\">'financebench'</span>,       <a href=\"file:///Users/forrest.murray/Documents/devel/cookbook_config/packages/gaic-widget/src/gaic_widget/widget.py\" target=\"_blank\"><span style=\"color: #7f7f7f; text-decoration-color: #7f7f7f\">widget.py</span></a><span style=\"color: #7f7f7f; text-decoration-color: #7f7f7f\">:</span><a href=\"file:///Users/forrest.murray/Documents/devel/cookbook_config/packages/gaic-widget/src/gaic_widget/widget.py#197\" target=\"_blank\"><span style=\"color: #7f7f7f; text-decoration-color: #7f7f7f\">197</span></a>\n",
       "<span style=\"color: #7fbfbf; text-decoration-color: #7fbfbf\">                    </span>         <span style=\"color: #008000; text-decoration-color: #008000\">'sec_rag_doan_payload_assessment_logs_checkpoints'</span>,                      <span style=\"color: #7f7f7f; text-decoration-color: #7f7f7f\">             </span>\n",
       "<span style=\"color: #7fbfbf; text-decoration-color: #7fbfbf\">                    </span>         <span style=\"color: #008000; text-decoration-color: #008000\">'sec_rag_doan_payload_request_logs_checkpoints'</span>,                         <span style=\"color: #7f7f7f; text-decoration-color: #7f7f7f\">             </span>\n",
       "<span style=\"color: #7fbfbf; text-decoration-color: #7fbfbf\">                    </span>         <span style=\"color: #008000; text-decoration-color: #008000\">'sec_rag_payload_assessment_logs_checkpoints'</span>,                           <span style=\"color: #7f7f7f; text-decoration-color: #7f7f7f\">             </span>\n",
       "<span style=\"color: #7fbfbf; text-decoration-color: #7fbfbf\">                    </span>         <span style=\"color: #008000; text-decoration-color: #008000\">'sec_rag_payload_request_logs_checkpoints'</span>, <span style=\"color: #008000; text-decoration-color: #008000\">'synthetic_data'</span><span style=\"font-weight: bold\">]</span>            <span style=\"color: #7f7f7f; text-decoration-color: #7f7f7f\">             </span>\n",
       "</pre>\n"
      ],
      "text/plain": [
       "\u001b[2;36m[10/29/24 17:03:21]\u001b[0m\u001b[2;36m \u001b[0m\u001b[32mDEBUG   \u001b[0m Fetched volumes for field_ai_examples.alphaleger: \u001b[1m[\u001b[0m\u001b[32m'financebench'\u001b[0m,       \u001b]8;id=361695;file:///Users/forrest.murray/Documents/devel/cookbook_config/packages/gaic-widget/src/gaic_widget/widget.py\u001b\\\u001b[2mwidget.py\u001b[0m\u001b]8;;\u001b\\\u001b[2m:\u001b[0m\u001b]8;id=956918;file:///Users/forrest.murray/Documents/devel/cookbook_config/packages/gaic-widget/src/gaic_widget/widget.py#197\u001b\\\u001b[2m197\u001b[0m\u001b]8;;\u001b\\\n",
       "\u001b[2;36m                    \u001b[0m         \u001b[32m'sec_rag_doan_payload_assessment_logs_checkpoints'\u001b[0m,                      \u001b[2m             \u001b[0m\n",
       "\u001b[2;36m                    \u001b[0m         \u001b[32m'sec_rag_doan_payload_request_logs_checkpoints'\u001b[0m,                         \u001b[2m             \u001b[0m\n",
       "\u001b[2;36m                    \u001b[0m         \u001b[32m'sec_rag_payload_assessment_logs_checkpoints'\u001b[0m,                           \u001b[2m             \u001b[0m\n",
       "\u001b[2;36m                    \u001b[0m         \u001b[32m'sec_rag_payload_request_logs_checkpoints'\u001b[0m, \u001b[32m'synthetic_data'\u001b[0m\u001b[1m]\u001b[0m            \u001b[2m             \u001b[0m\n"
      ]
     },
     "metadata": {},
     "output_type": "display_data"
    },
    {
     "data": {
      "text/html": [
       "<pre style=\"white-space:pre;overflow-x:auto;line-height:normal;font-family:Menlo,'DejaVu Sans Mono',consolas,'Courier New',monospace\"><span style=\"color: #7fbfbf; text-decoration-color: #7fbfbf\">                    </span><span style=\"color: #008000; text-decoration-color: #008000\">DEBUG   </span> Received custom message: <span style=\"font-weight: bold\">{</span><span style=\"color: #008000; text-decoration-color: #008000\">'type'</span>: <span style=\"color: #008000; text-decoration-color: #008000\">'catalog_selected'</span>, <span style=\"color: #008000; text-decoration-color: #008000\">'catalog'</span>:         <a href=\"file:///Users/forrest.murray/Documents/devel/cookbook_config/packages/gaic-widget/src/gaic_widget/widget.py\" target=\"_blank\"><span style=\"color: #7f7f7f; text-decoration-color: #7f7f7f\">widget.py</span></a><span style=\"color: #7f7f7f; text-decoration-color: #7f7f7f\">:</span><a href=\"file:///Users/forrest.murray/Documents/devel/cookbook_config/packages/gaic-widget/src/gaic_widget/widget.py#180\" target=\"_blank\"><span style=\"color: #7f7f7f; text-decoration-color: #7f7f7f\">180</span></a>\n",
       "<span style=\"color: #7fbfbf; text-decoration-color: #7fbfbf\">                    </span>         <span style=\"color: #008000; text-decoration-color: #008000\">'field_ai_examples'</span><span style=\"font-weight: bold\">}</span>                                                     <span style=\"color: #7f7f7f; text-decoration-color: #7f7f7f\">             </span>\n",
       "</pre>\n"
      ],
      "text/plain": [
       "\u001b[2;36m                   \u001b[0m\u001b[2;36m \u001b[0m\u001b[32mDEBUG   \u001b[0m Received custom message: \u001b[1m{\u001b[0m\u001b[32m'type'\u001b[0m: \u001b[32m'catalog_selected'\u001b[0m, \u001b[32m'catalog'\u001b[0m:         \u001b]8;id=376677;file:///Users/forrest.murray/Documents/devel/cookbook_config/packages/gaic-widget/src/gaic_widget/widget.py\u001b\\\u001b[2mwidget.py\u001b[0m\u001b]8;;\u001b\\\u001b[2m:\u001b[0m\u001b]8;id=937030;file:///Users/forrest.murray/Documents/devel/cookbook_config/packages/gaic-widget/src/gaic_widget/widget.py#180\u001b\\\u001b[2m180\u001b[0m\u001b]8;;\u001b\\\n",
       "\u001b[2;36m                    \u001b[0m         \u001b[32m'field_ai_examples'\u001b[0m\u001b[1m}\u001b[0m                                                     \u001b[2m             \u001b[0m\n"
      ]
     },
     "metadata": {},
     "output_type": "display_data"
    },
    {
     "name": "stdout",
     "output_type": "stream",
     "text": [
      "Fetched schemas for catalog field_ai_examples: ['alphaleger', 'default', 'information_schema', 'rag']\n"
     ]
    },
    {
     "data": {
      "text/html": [
       "<pre style=\"white-space:pre;overflow-x:auto;line-height:normal;font-family:Menlo,'DejaVu Sans Mono',consolas,'Courier New',monospace\"><span style=\"color: #7fbfbf; text-decoration-color: #7fbfbf\">                    </span><span style=\"color: #008000; text-decoration-color: #008000\">DEBUG   </span> Received custom message: <span style=\"font-weight: bold\">{</span><span style=\"color: #008000; text-decoration-color: #008000\">'type'</span>: <span style=\"color: #008000; text-decoration-color: #008000\">'volume_request'</span>, <span style=\"color: #008000; text-decoration-color: #008000\">'catalog'</span>:           <a href=\"file:///Users/forrest.murray/Documents/devel/cookbook_config/packages/gaic-widget/src/gaic_widget/widget.py\" target=\"_blank\"><span style=\"color: #7f7f7f; text-decoration-color: #7f7f7f\">widget.py</span></a><span style=\"color: #7f7f7f; text-decoration-color: #7f7f7f\">:</span><a href=\"file:///Users/forrest.murray/Documents/devel/cookbook_config/packages/gaic-widget/src/gaic_widget/widget.py#180\" target=\"_blank\"><span style=\"color: #7f7f7f; text-decoration-color: #7f7f7f\">180</span></a>\n",
       "<span style=\"color: #7fbfbf; text-decoration-color: #7fbfbf\">                    </span>         <span style=\"color: #008000; text-decoration-color: #008000\">'field_ai_examples'</span>, <span style=\"color: #008000; text-decoration-color: #008000\">'schema'</span>: <span style=\"color: #008000; text-decoration-color: #008000\">'alphaleger'</span><span style=\"font-weight: bold\">}</span>                             <span style=\"color: #7f7f7f; text-decoration-color: #7f7f7f\">             </span>\n",
       "</pre>\n"
      ],
      "text/plain": [
       "\u001b[2;36m                   \u001b[0m\u001b[2;36m \u001b[0m\u001b[32mDEBUG   \u001b[0m Received custom message: \u001b[1m{\u001b[0m\u001b[32m'type'\u001b[0m: \u001b[32m'volume_request'\u001b[0m, \u001b[32m'catalog'\u001b[0m:           \u001b]8;id=771743;file:///Users/forrest.murray/Documents/devel/cookbook_config/packages/gaic-widget/src/gaic_widget/widget.py\u001b\\\u001b[2mwidget.py\u001b[0m\u001b]8;;\u001b\\\u001b[2m:\u001b[0m\u001b]8;id=466531;file:///Users/forrest.murray/Documents/devel/cookbook_config/packages/gaic-widget/src/gaic_widget/widget.py#180\u001b\\\u001b[2m180\u001b[0m\u001b]8;;\u001b\\\n",
       "\u001b[2;36m                    \u001b[0m         \u001b[32m'field_ai_examples'\u001b[0m, \u001b[32m'schema'\u001b[0m: \u001b[32m'alphaleger'\u001b[0m\u001b[1m}\u001b[0m                             \u001b[2m             \u001b[0m\n"
      ]
     },
     "metadata": {},
     "output_type": "display_data"
    },
    {
     "data": {
      "text/html": [
       "<pre style=\"white-space:pre;overflow-x:auto;line-height:normal;font-family:Menlo,'DejaVu Sans Mono',consolas,'Courier New',monospace\"><span style=\"color: #7fbfbf; text-decoration-color: #7fbfbf\">                    </span><span style=\"color: #008000; text-decoration-color: #008000\">DEBUG   </span> Fetched volumes for field_ai_examples.alphaleger: <span style=\"font-weight: bold\">[</span><span style=\"color: #008000; text-decoration-color: #008000\">'financebench'</span>,       <a href=\"file:///Users/forrest.murray/Documents/devel/cookbook_config/packages/gaic-widget/src/gaic_widget/widget.py\" target=\"_blank\"><span style=\"color: #7f7f7f; text-decoration-color: #7f7f7f\">widget.py</span></a><span style=\"color: #7f7f7f; text-decoration-color: #7f7f7f\">:</span><a href=\"file:///Users/forrest.murray/Documents/devel/cookbook_config/packages/gaic-widget/src/gaic_widget/widget.py#197\" target=\"_blank\"><span style=\"color: #7f7f7f; text-decoration-color: #7f7f7f\">197</span></a>\n",
       "<span style=\"color: #7fbfbf; text-decoration-color: #7fbfbf\">                    </span>         <span style=\"color: #008000; text-decoration-color: #008000\">'sec_rag_doan_payload_assessment_logs_checkpoints'</span>,                      <span style=\"color: #7f7f7f; text-decoration-color: #7f7f7f\">             </span>\n",
       "<span style=\"color: #7fbfbf; text-decoration-color: #7fbfbf\">                    </span>         <span style=\"color: #008000; text-decoration-color: #008000\">'sec_rag_doan_payload_request_logs_checkpoints'</span>,                         <span style=\"color: #7f7f7f; text-decoration-color: #7f7f7f\">             </span>\n",
       "<span style=\"color: #7fbfbf; text-decoration-color: #7fbfbf\">                    </span>         <span style=\"color: #008000; text-decoration-color: #008000\">'sec_rag_payload_assessment_logs_checkpoints'</span>,                           <span style=\"color: #7f7f7f; text-decoration-color: #7f7f7f\">             </span>\n",
       "<span style=\"color: #7fbfbf; text-decoration-color: #7fbfbf\">                    </span>         <span style=\"color: #008000; text-decoration-color: #008000\">'sec_rag_payload_request_logs_checkpoints'</span>, <span style=\"color: #008000; text-decoration-color: #008000\">'synthetic_data'</span><span style=\"font-weight: bold\">]</span>            <span style=\"color: #7f7f7f; text-decoration-color: #7f7f7f\">             </span>\n",
       "</pre>\n"
      ],
      "text/plain": [
       "\u001b[2;36m                   \u001b[0m\u001b[2;36m \u001b[0m\u001b[32mDEBUG   \u001b[0m Fetched volumes for field_ai_examples.alphaleger: \u001b[1m[\u001b[0m\u001b[32m'financebench'\u001b[0m,       \u001b]8;id=392007;file:///Users/forrest.murray/Documents/devel/cookbook_config/packages/gaic-widget/src/gaic_widget/widget.py\u001b\\\u001b[2mwidget.py\u001b[0m\u001b]8;;\u001b\\\u001b[2m:\u001b[0m\u001b]8;id=366329;file:///Users/forrest.murray/Documents/devel/cookbook_config/packages/gaic-widget/src/gaic_widget/widget.py#197\u001b\\\u001b[2m197\u001b[0m\u001b]8;;\u001b\\\n",
       "\u001b[2;36m                    \u001b[0m         \u001b[32m'sec_rag_doan_payload_assessment_logs_checkpoints'\u001b[0m,                      \u001b[2m             \u001b[0m\n",
       "\u001b[2;36m                    \u001b[0m         \u001b[32m'sec_rag_doan_payload_request_logs_checkpoints'\u001b[0m,                         \u001b[2m             \u001b[0m\n",
       "\u001b[2;36m                    \u001b[0m         \u001b[32m'sec_rag_payload_assessment_logs_checkpoints'\u001b[0m,                           \u001b[2m             \u001b[0m\n",
       "\u001b[2;36m                    \u001b[0m         \u001b[32m'sec_rag_payload_request_logs_checkpoints'\u001b[0m, \u001b[32m'synthetic_data'\u001b[0m\u001b[1m]\u001b[0m            \u001b[2m             \u001b[0m\n"
      ]
     },
     "metadata": {},
     "output_type": "display_data"
    },
    {
     "data": {
      "text/html": [
       "<pre style=\"white-space:pre;overflow-x:auto;line-height:normal;font-family:Menlo,'DejaVu Sans Mono',consolas,'Courier New',monospace\"><span style=\"color: #7fbfbf; text-decoration-color: #7fbfbf\">[10/29/24 17:03:24] </span><span style=\"color: #008000; text-decoration-color: #008000\">DEBUG   </span> Received custom message: <span style=\"font-weight: bold\">{</span><span style=\"color: #008000; text-decoration-color: #008000\">'type'</span>: <span style=\"color: #008000; text-decoration-color: #008000\">'volume_request'</span>, <span style=\"color: #008000; text-decoration-color: #008000\">'catalog'</span>:           <a href=\"file:///Users/forrest.murray/Documents/devel/cookbook_config/packages/gaic-widget/src/gaic_widget/widget.py\" target=\"_blank\"><span style=\"color: #7f7f7f; text-decoration-color: #7f7f7f\">widget.py</span></a><span style=\"color: #7f7f7f; text-decoration-color: #7f7f7f\">:</span><a href=\"file:///Users/forrest.murray/Documents/devel/cookbook_config/packages/gaic-widget/src/gaic_widget/widget.py#180\" target=\"_blank\"><span style=\"color: #7f7f7f; text-decoration-color: #7f7f7f\">180</span></a>\n",
       "<span style=\"color: #7fbfbf; text-decoration-color: #7fbfbf\">                    </span>         <span style=\"color: #008000; text-decoration-color: #008000\">'field_ai_examples'</span>, <span style=\"color: #008000; text-decoration-color: #008000\">'schema'</span>: <span style=\"color: #008000; text-decoration-color: #008000\">'rag'</span><span style=\"font-weight: bold\">}</span>                                    <span style=\"color: #7f7f7f; text-decoration-color: #7f7f7f\">             </span>\n",
       "</pre>\n"
      ],
      "text/plain": [
       "\u001b[2;36m[10/29/24 17:03:24]\u001b[0m\u001b[2;36m \u001b[0m\u001b[32mDEBUG   \u001b[0m Received custom message: \u001b[1m{\u001b[0m\u001b[32m'type'\u001b[0m: \u001b[32m'volume_request'\u001b[0m, \u001b[32m'catalog'\u001b[0m:           \u001b]8;id=204456;file:///Users/forrest.murray/Documents/devel/cookbook_config/packages/gaic-widget/src/gaic_widget/widget.py\u001b\\\u001b[2mwidget.py\u001b[0m\u001b]8;;\u001b\\\u001b[2m:\u001b[0m\u001b]8;id=206910;file:///Users/forrest.murray/Documents/devel/cookbook_config/packages/gaic-widget/src/gaic_widget/widget.py#180\u001b\\\u001b[2m180\u001b[0m\u001b]8;;\u001b\\\n",
       "\u001b[2;36m                    \u001b[0m         \u001b[32m'field_ai_examples'\u001b[0m, \u001b[32m'schema'\u001b[0m: \u001b[32m'rag'\u001b[0m\u001b[1m}\u001b[0m                                    \u001b[2m             \u001b[0m\n"
      ]
     },
     "metadata": {},
     "output_type": "display_data"
    },
    {
     "data": {
      "text/html": [
       "<pre style=\"white-space:pre;overflow-x:auto;line-height:normal;font-family:Menlo,'DejaVu Sans Mono',consolas,'Courier New',monospace\"><span style=\"color: #7fbfbf; text-decoration-color: #7fbfbf\">                    </span><span style=\"color: #008000; text-decoration-color: #008000\">DEBUG   </span> Fetched volumes for field_ai_examples.rag: <span style=\"font-weight: bold\">[</span><span style=\"color: #008000; text-decoration-color: #008000\">'checkpoints'</span>,               <a href=\"file:///Users/forrest.murray/Documents/devel/cookbook_config/packages/gaic-widget/src/gaic_widget/widget.py\" target=\"_blank\"><span style=\"color: #7f7f7f; text-decoration-color: #7f7f7f\">widget.py</span></a><span style=\"color: #7f7f7f; text-decoration-color: #7f7f7f\">:</span><a href=\"file:///Users/forrest.murray/Documents/devel/cookbook_config/packages/gaic-widget/src/gaic_widget/widget.py#197\" target=\"_blank\"><span style=\"color: #7f7f7f; text-decoration-color: #7f7f7f\">197</span></a>\n",
       "<span style=\"color: #7fbfbf; text-decoration-color: #7fbfbf\">                    </span>         <span style=\"color: #008000; text-decoration-color: #008000\">'financebench'</span>, <span style=\"color: #008000; text-decoration-color: #008000\">'source_documents'</span><span style=\"font-weight: bold\">]</span>                                      <span style=\"color: #7f7f7f; text-decoration-color: #7f7f7f\">             </span>\n",
       "</pre>\n"
      ],
      "text/plain": [
       "\u001b[2;36m                   \u001b[0m\u001b[2;36m \u001b[0m\u001b[32mDEBUG   \u001b[0m Fetched volumes for field_ai_examples.rag: \u001b[1m[\u001b[0m\u001b[32m'checkpoints'\u001b[0m,               \u001b]8;id=187429;file:///Users/forrest.murray/Documents/devel/cookbook_config/packages/gaic-widget/src/gaic_widget/widget.py\u001b\\\u001b[2mwidget.py\u001b[0m\u001b]8;;\u001b\\\u001b[2m:\u001b[0m\u001b]8;id=269443;file:///Users/forrest.murray/Documents/devel/cookbook_config/packages/gaic-widget/src/gaic_widget/widget.py#197\u001b\\\u001b[2m197\u001b[0m\u001b]8;;\u001b\\\n",
       "\u001b[2;36m                    \u001b[0m         \u001b[32m'financebench'\u001b[0m, \u001b[32m'source_documents'\u001b[0m\u001b[1m]\u001b[0m                                      \u001b[2m             \u001b[0m\n"
      ]
     },
     "metadata": {},
     "output_type": "display_data"
    }
   ],
   "source": [
    "from gaic_widget.widget import ConfigWidget\n",
    "\n",
    "widget = ConfigWidget(config_path=\"../src/ai_cookbook/pipeline_config.yaml\")\n",
    "widget"
   ]
  },
  {
   "cell_type": "code",
   "execution_count": null,
   "metadata": {},
   "outputs": [],
   "source": []
  }
 ],
 "metadata": {
  "kernelspec": {
   "display_name": "Python 3 (ipykernel)",
   "language": "python",
   "name": "python3"
  },
  "language_info": {
   "codemirror_mode": {
    "name": "ipython",
    "version": 3
   },
   "file_extension": ".py",
   "mimetype": "text/x-python",
   "name": "python",
   "nbconvert_exporter": "python",
   "pygments_lexer": "ipython3",
   "version": "3.11.10"
  }
 },
 "nbformat": 4,
 "nbformat_minor": 4
}
