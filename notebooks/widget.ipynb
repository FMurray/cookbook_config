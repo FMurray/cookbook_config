{
 "cells": [
  {
   "cell_type": "code",
   "execution_count": 1,
   "metadata": {},
   "outputs": [
    {
     "name": "stdout",
     "output_type": "stream",
     "text": [
      "env: ANYWIDGET_HMR=1\n"
     ]
    }
   ],
   "source": [
    "%env ANYWIDGET_HMR=1"
   ]
  },
  {
   "cell_type": "code",
   "execution_count": 4,
   "metadata": {},
   "outputs": [
    {
     "data": {
      "text/html": [
       "<pre style=\"white-space:pre;overflow-x:auto;line-height:normal;font-family:Menlo,'DejaVu Sans Mono',consolas,'Courier New',monospace\"><span style=\"color: #7fbfbf; text-decoration-color: #7fbfbf\">[10/31/24 16:40:10] </span><span style=\"color: #008000; text-decoration-color: #008000\">DEBUG   </span> Populating data                                                           <a href=\"file:///Users/forrest.murray/Documents/devel/cookbook_config/packages/gaic-widget/src/gaic_widget/widget.py\" target=\"_blank\"><span style=\"color: #7f7f7f; text-decoration-color: #7f7f7f\">widget.py</span></a><span style=\"color: #7f7f7f; text-decoration-color: #7f7f7f\">:</span><a href=\"file:///Users/forrest.murray/Documents/devel/cookbook_config/packages/gaic-widget/src/gaic_widget/widget.py#83\" target=\"_blank\"><span style=\"color: #7f7f7f; text-decoration-color: #7f7f7f\">83</span></a>\n",
       "</pre>\n"
      ],
      "text/plain": [
       "\u001b[2;36m[10/31/24 16:40:10]\u001b[0m\u001b[2;36m \u001b[0m\u001b[32mDEBUG   \u001b[0m Populating data                                                           \u001b]8;id=727721;file:///Users/forrest.murray/Documents/devel/cookbook_config/packages/gaic-widget/src/gaic_widget/widget.py\u001b\\\u001b[2mwidget.py\u001b[0m\u001b]8;;\u001b\\\u001b[2m:\u001b[0m\u001b]8;id=843276;file:///Users/forrest.murray/Documents/devel/cookbook_config/packages/gaic-widget/src/gaic_widget/widget.py#83\u001b\\\u001b[2m83\u001b[0m\u001b]8;;\u001b\\\n"
      ]
     },
     "metadata": {},
     "output_type": "display_data"
    },
    {
     "data": {
      "application/vnd.jupyter.widget-view+json": {
       "model_id": "abb13d61cba14646a9f413b1983f0042",
       "version_major": 2,
       "version_minor": 1
      },
      "text/plain": [
       "ConfigWidget(catalogs=['field_ai_examples'], data_sources=[{'id': 'financial_reports', 'type': 'source', 'labe…"
      ]
     },
     "execution_count": 4,
     "metadata": {},
     "output_type": "execute_result"
    }
   ],
   "source": [
    "from gaic_widget.widget import ConfigWidget\n",
    "\n",
    "widget = ConfigWidget(config_path=\"../src/ai_cookbook/pipeline_config.yaml\")\n",
    "widget"
   ]
  },
  {
   "cell_type": "code",
   "execution_count": null,
   "metadata": {},
   "outputs": [],
   "source": []
  }
 ],
 "metadata": {
  "kernelspec": {
   "display_name": "Python 3 (ipykernel)",
   "language": "python",
   "name": "python3"
  },
  "language_info": {
   "codemirror_mode": {
    "name": "ipython",
    "version": 3
   },
   "file_extension": ".py",
   "mimetype": "text/x-python",
   "name": "python",
   "nbconvert_exporter": "python",
   "pygments_lexer": "ipython3",
   "version": "3.11.10"
  }
 },
 "nbformat": 4,
 "nbformat_minor": 4
}
